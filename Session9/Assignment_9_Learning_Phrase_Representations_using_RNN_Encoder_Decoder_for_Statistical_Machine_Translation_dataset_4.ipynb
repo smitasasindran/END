{
  "nbformat": 4,
  "nbformat_minor": 0,
  "metadata": {
    "colab": {
      "name": "Assignment 9 - Learning Phrase Representations using RNN Encoder-Decoder for Statistical Machine Translation dataset 4.ipynb",
      "provenance": [],
      "collapsed_sections": [],
      "include_colab_link": true
    },
    "kernelspec": {
      "display_name": "Python 3",
      "language": "python",
      "name": "python3"
    },
    "language_info": {
      "codemirror_mode": {
        "name": "ipython",
        "version": 3
      },
      "file_extension": ".py",
      "mimetype": "text/x-python",
      "name": "python",
      "nbconvert_exporter": "python",
      "pygments_lexer": "ipython3",
      "version": "3.8.2"
    }
  },
  "cells": [
    {
      "cell_type": "markdown",
      "metadata": {
        "id": "view-in-github",
        "colab_type": "text"
      },
      "source": [
        "<a href=\"https://colab.research.google.com/github/endteamschoolofai/END/blob/main/Session9/Assignment_9_Learning_Phrase_Representations_using_RNN_Encoder_Decoder_for_Statistical_Machine_Translation_dataset_4.ipynb\" target=\"_parent\"><img src=\"https://colab.research.google.com/assets/colab-badge.svg\" alt=\"Open In Colab\"/></a>"
      ]
    },
    {
      "cell_type": "markdown",
      "metadata": {
        "id": "EzxOJwN7EzFO"
      },
      "source": [
        "# 2 - Learning Phrase Representations using RNN Encoder-Decoder for Statistical Machine Translation\n",
        "\n",
        "In this second notebook on sequence-to-sequence models using PyTorch and TorchText, we'll be implementing the model from [Learning Phrase Representations using RNN Encoder-Decoder for Statistical Machine Translation](https://arxiv.org/abs/1406.1078). This model will achieve improved test perplexity whilst only using a single layer RNN in both the encoder and the decoder.\n",
        "\n",
        "## Introduction\n",
        "\n",
        "Let's remind ourselves of the general encoder-decoder model.\n",
        "\n",
        "![](https://github.com/bentrevett/pytorch-seq2seq/blob/master/assets/seq2seq1.png?raw=1)\n",
        "\n",
        "We use our encoder (green) over the embedded source sequence (yellow) to create a context vector (red). We then use that context vector with the decoder (blue) and a linear layer (purple) to generate the target sentence.\n",
        "\n",
        "In the previous model, we used an multi-layered LSTM as the encoder and decoder.\n",
        "\n",
        "![](https://github.com/bentrevett/pytorch-seq2seq/blob/master/assets/seq2seq4.png?raw=1)\n",
        "\n",
        "One downside of the previous model is that the decoder is trying to cram lots of information into the hidden states. Whilst decoding, the hidden state will need to contain information about the whole of the source sequence, as well as all of the tokens have been decoded so far. By alleviating some of this information compression, we can create a better model!\n",
        "\n",
        "We'll also be using a GRU (Gated Recurrent Unit) instead of an LSTM (Long Short-Term Memory). Why? Mainly because that's what they did in the paper (this paper also introduced GRUs) and also because we used LSTMs last time. To understand how GRUs (and LSTMs) differ from standard RNNS, check out [this](https://colah.github.io/posts/2015-08-Understanding-LSTMs/) link. Is a GRU better than an LSTM? [Research](https://arxiv.org/abs/1412.3555) has shown they're pretty much the same, and both are better than standard RNNs. \n",
        "\n",
        "## Preparing Data\n",
        "\n",
        "All of the data preparation will be (almost) the same as last time, so we'll very briefly detail what each code block does. See the previous notebook for a recap.\n",
        "\n",
        "We'll import PyTorch, TorchText, spaCy and a few standard modules."
      ]
    },
    {
      "cell_type": "code",
      "metadata": {
        "id": "uUnMLdevEzFT"
      },
      "source": [
        "import torch\n",
        "import torch.nn as nn\n",
        "import torch.optim as optim\n",
        "\n",
        "from torchtext.datasets import Multi30k\n",
        "from torchtext import data \n",
        "from torchtext.data import Field, BucketIterator\n",
        "\n",
        "import spacy\n",
        "import numpy as np\n",
        "\n",
        "import random\n",
        "import math\n",
        "import time\n",
        "import pandas as pd\n",
        "import math"
      ],
      "execution_count": 1,
      "outputs": []
    },
    {
      "cell_type": "markdown",
      "metadata": {
        "id": "srzErHAsEzFU"
      },
      "source": [
        "Then set a random seed for deterministic results/reproducability."
      ]
    },
    {
      "cell_type": "code",
      "metadata": {
        "id": "r_wP4J4LEzFX"
      },
      "source": [
        "SEED = 1234\n",
        "\n",
        "random.seed(SEED)\n",
        "np.random.seed(SEED)\n",
        "torch.manual_seed(SEED)\n",
        "torch.cuda.manual_seed(SEED)\n",
        "torch.backends.cudnn.deterministic = True"
      ],
      "execution_count": 2,
      "outputs": []
    },
    {
      "cell_type": "code",
      "metadata": {
        "id": "f4davOyYEzFd"
      },
      "source": [
        "device = torch.device('cuda' if torch.cuda.is_available() else 'cpu')"
      ],
      "execution_count": 3,
      "outputs": []
    },
    {
      "cell_type": "markdown",
      "metadata": {
        "id": "0bvnhAAcNm-7"
      },
      "source": [
        "# Dataset 4 - Customer Support on Twitter:"
      ]
    },
    {
      "cell_type": "code",
      "metadata": {
        "colab": {
          "base_uri": "https://localhost:8080/"
        },
        "id": "4sByHGJ34IN8",
        "outputId": "77ecd7cf-1645-4d26-f7f1-17d4000bff3d"
      },
      "source": [
        "from google.colab import drive\r\n",
        "drive.mount('/content/drive')"
      ],
      "execution_count": 4,
      "outputs": [
        {
          "output_type": "stream",
          "text": [
            "Mounted at /content/drive\n"
          ],
          "name": "stdout"
        }
      ]
    },
    {
      "cell_type": "code",
      "metadata": {
        "colab": {
          "base_uri": "https://localhost:8080/"
        },
        "id": "oEvv8Jbc4IJo",
        "outputId": "50d3b946-c7db-4e99-f72b-a90a08868ee1"
      },
      "source": [
        "!unzip /content/drive/MyDrive/end/archive.zip"
      ],
      "execution_count": 5,
      "outputs": [
        {
          "output_type": "stream",
          "text": [
            "Archive:  /content/drive/MyDrive/end/archive.zip\n",
            "  inflating: sample.csv              \n",
            "  inflating: twcs/twcs.csv           \n"
          ],
          "name": "stdout"
        }
      ]
    },
    {
      "cell_type": "code",
      "metadata": {
        "colab": {
          "base_uri": "https://localhost:8080/",
          "height": 359
        },
        "id": "410nzWLW4ICb",
        "outputId": "8cf4910a-4c00-4372-9b1b-84770bd42429"
      },
      "source": [
        "train_df_fourth = pd.read_csv('twcs/twcs.csv')\r\n",
        "train_df_fourth.head(10)"
      ],
      "execution_count": 6,
      "outputs": [
        {
          "output_type": "execute_result",
          "data": {
            "text/html": [
              "<div>\n",
              "<style scoped>\n",
              "    .dataframe tbody tr th:only-of-type {\n",
              "        vertical-align: middle;\n",
              "    }\n",
              "\n",
              "    .dataframe tbody tr th {\n",
              "        vertical-align: top;\n",
              "    }\n",
              "\n",
              "    .dataframe thead th {\n",
              "        text-align: right;\n",
              "    }\n",
              "</style>\n",
              "<table border=\"1\" class=\"dataframe\">\n",
              "  <thead>\n",
              "    <tr style=\"text-align: right;\">\n",
              "      <th></th>\n",
              "      <th>tweet_id</th>\n",
              "      <th>author_id</th>\n",
              "      <th>inbound</th>\n",
              "      <th>created_at</th>\n",
              "      <th>text</th>\n",
              "      <th>response_tweet_id</th>\n",
              "      <th>in_response_to_tweet_id</th>\n",
              "    </tr>\n",
              "  </thead>\n",
              "  <tbody>\n",
              "    <tr>\n",
              "      <th>0</th>\n",
              "      <td>1</td>\n",
              "      <td>sprintcare</td>\n",
              "      <td>False</td>\n",
              "      <td>Tue Oct 31 22:10:47 +0000 2017</td>\n",
              "      <td>@115712 I understand. I would like to assist y...</td>\n",
              "      <td>2</td>\n",
              "      <td>3.0</td>\n",
              "    </tr>\n",
              "    <tr>\n",
              "      <th>1</th>\n",
              "      <td>2</td>\n",
              "      <td>115712</td>\n",
              "      <td>True</td>\n",
              "      <td>Tue Oct 31 22:11:45 +0000 2017</td>\n",
              "      <td>@sprintcare and how do you propose we do that</td>\n",
              "      <td>NaN</td>\n",
              "      <td>1.0</td>\n",
              "    </tr>\n",
              "    <tr>\n",
              "      <th>2</th>\n",
              "      <td>3</td>\n",
              "      <td>115712</td>\n",
              "      <td>True</td>\n",
              "      <td>Tue Oct 31 22:08:27 +0000 2017</td>\n",
              "      <td>@sprintcare I have sent several private messag...</td>\n",
              "      <td>1</td>\n",
              "      <td>4.0</td>\n",
              "    </tr>\n",
              "    <tr>\n",
              "      <th>3</th>\n",
              "      <td>4</td>\n",
              "      <td>sprintcare</td>\n",
              "      <td>False</td>\n",
              "      <td>Tue Oct 31 21:54:49 +0000 2017</td>\n",
              "      <td>@115712 Please send us a Private Message so th...</td>\n",
              "      <td>3</td>\n",
              "      <td>5.0</td>\n",
              "    </tr>\n",
              "    <tr>\n",
              "      <th>4</th>\n",
              "      <td>5</td>\n",
              "      <td>115712</td>\n",
              "      <td>True</td>\n",
              "      <td>Tue Oct 31 21:49:35 +0000 2017</td>\n",
              "      <td>@sprintcare I did.</td>\n",
              "      <td>4</td>\n",
              "      <td>6.0</td>\n",
              "    </tr>\n",
              "    <tr>\n",
              "      <th>5</th>\n",
              "      <td>6</td>\n",
              "      <td>sprintcare</td>\n",
              "      <td>False</td>\n",
              "      <td>Tue Oct 31 21:46:24 +0000 2017</td>\n",
              "      <td>@115712 Can you please send us a private messa...</td>\n",
              "      <td>5,7</td>\n",
              "      <td>8.0</td>\n",
              "    </tr>\n",
              "    <tr>\n",
              "      <th>6</th>\n",
              "      <td>8</td>\n",
              "      <td>115712</td>\n",
              "      <td>True</td>\n",
              "      <td>Tue Oct 31 21:45:10 +0000 2017</td>\n",
              "      <td>@sprintcare is the worst customer service</td>\n",
              "      <td>9,6,10</td>\n",
              "      <td>NaN</td>\n",
              "    </tr>\n",
              "    <tr>\n",
              "      <th>7</th>\n",
              "      <td>11</td>\n",
              "      <td>sprintcare</td>\n",
              "      <td>False</td>\n",
              "      <td>Tue Oct 31 22:10:35 +0000 2017</td>\n",
              "      <td>@115713 This is saddening to hear. Please shoo...</td>\n",
              "      <td>NaN</td>\n",
              "      <td>12.0</td>\n",
              "    </tr>\n",
              "    <tr>\n",
              "      <th>8</th>\n",
              "      <td>12</td>\n",
              "      <td>115713</td>\n",
              "      <td>True</td>\n",
              "      <td>Tue Oct 31 22:04:47 +0000 2017</td>\n",
              "      <td>@sprintcare You gonna magically change your co...</td>\n",
              "      <td>11,13,14</td>\n",
              "      <td>15.0</td>\n",
              "    </tr>\n",
              "    <tr>\n",
              "      <th>9</th>\n",
              "      <td>15</td>\n",
              "      <td>sprintcare</td>\n",
              "      <td>False</td>\n",
              "      <td>Tue Oct 31 20:03:31 +0000 2017</td>\n",
              "      <td>@115713 We understand your concerns and we'd l...</td>\n",
              "      <td>12</td>\n",
              "      <td>16.0</td>\n",
              "    </tr>\n",
              "  </tbody>\n",
              "</table>\n",
              "</div>"
            ],
            "text/plain": [
              "   tweet_id   author_id  ...  response_tweet_id in_response_to_tweet_id\n",
              "0         1  sprintcare  ...                  2                     3.0\n",
              "1         2      115712  ...                NaN                     1.0\n",
              "2         3      115712  ...                  1                     4.0\n",
              "3         4  sprintcare  ...                  3                     5.0\n",
              "4         5      115712  ...                  4                     6.0\n",
              "5         6  sprintcare  ...                5,7                     8.0\n",
              "6         8      115712  ...             9,6,10                     NaN\n",
              "7        11  sprintcare  ...                NaN                    12.0\n",
              "8        12      115713  ...           11,13,14                    15.0\n",
              "9        15  sprintcare  ...                 12                    16.0\n",
              "\n",
              "[10 rows x 7 columns]"
            ]
          },
          "metadata": {
            "tags": []
          },
          "execution_count": 6
        }
      ]
    },
    {
      "cell_type": "code",
      "metadata": {
        "colab": {
          "base_uri": "https://localhost:8080/"
        },
        "id": "rt4uO6w1NGFx",
        "outputId": "eef94b2f-84df-4d07-f73b-5e3a6ba735f3"
      },
      "source": [
        "len(train_df_fourth)"
      ],
      "execution_count": 7,
      "outputs": [
        {
          "output_type": "execute_result",
          "data": {
            "text/plain": [
              "2811774"
            ]
          },
          "metadata": {
            "tags": []
          },
          "execution_count": 7
        }
      ]
    },
    {
      "cell_type": "code",
      "metadata": {
        "colab": {
          "base_uri": "https://localhost:8080/",
          "height": 359
        },
        "id": "PA-WWw2VcqfI",
        "outputId": "3e508081-67c3-4fe2-9a27-061dead2ec5f"
      },
      "source": [
        "df = train_df_fourth.dropna() #math.isnan(train_df_fourth.response_tweet_id[1])\r\n",
        "df.head(10)"
      ],
      "execution_count": 8,
      "outputs": [
        {
          "output_type": "execute_result",
          "data": {
            "text/html": [
              "<div>\n",
              "<style scoped>\n",
              "    .dataframe tbody tr th:only-of-type {\n",
              "        vertical-align: middle;\n",
              "    }\n",
              "\n",
              "    .dataframe tbody tr th {\n",
              "        vertical-align: top;\n",
              "    }\n",
              "\n",
              "    .dataframe thead th {\n",
              "        text-align: right;\n",
              "    }\n",
              "</style>\n",
              "<table border=\"1\" class=\"dataframe\">\n",
              "  <thead>\n",
              "    <tr style=\"text-align: right;\">\n",
              "      <th></th>\n",
              "      <th>tweet_id</th>\n",
              "      <th>author_id</th>\n",
              "      <th>inbound</th>\n",
              "      <th>created_at</th>\n",
              "      <th>text</th>\n",
              "      <th>response_tweet_id</th>\n",
              "      <th>in_response_to_tweet_id</th>\n",
              "    </tr>\n",
              "  </thead>\n",
              "  <tbody>\n",
              "    <tr>\n",
              "      <th>0</th>\n",
              "      <td>1</td>\n",
              "      <td>sprintcare</td>\n",
              "      <td>False</td>\n",
              "      <td>Tue Oct 31 22:10:47 +0000 2017</td>\n",
              "      <td>@115712 I understand. I would like to assist y...</td>\n",
              "      <td>2</td>\n",
              "      <td>3.0</td>\n",
              "    </tr>\n",
              "    <tr>\n",
              "      <th>2</th>\n",
              "      <td>3</td>\n",
              "      <td>115712</td>\n",
              "      <td>True</td>\n",
              "      <td>Tue Oct 31 22:08:27 +0000 2017</td>\n",
              "      <td>@sprintcare I have sent several private messag...</td>\n",
              "      <td>1</td>\n",
              "      <td>4.0</td>\n",
              "    </tr>\n",
              "    <tr>\n",
              "      <th>3</th>\n",
              "      <td>4</td>\n",
              "      <td>sprintcare</td>\n",
              "      <td>False</td>\n",
              "      <td>Tue Oct 31 21:54:49 +0000 2017</td>\n",
              "      <td>@115712 Please send us a Private Message so th...</td>\n",
              "      <td>3</td>\n",
              "      <td>5.0</td>\n",
              "    </tr>\n",
              "    <tr>\n",
              "      <th>4</th>\n",
              "      <td>5</td>\n",
              "      <td>115712</td>\n",
              "      <td>True</td>\n",
              "      <td>Tue Oct 31 21:49:35 +0000 2017</td>\n",
              "      <td>@sprintcare I did.</td>\n",
              "      <td>4</td>\n",
              "      <td>6.0</td>\n",
              "    </tr>\n",
              "    <tr>\n",
              "      <th>5</th>\n",
              "      <td>6</td>\n",
              "      <td>sprintcare</td>\n",
              "      <td>False</td>\n",
              "      <td>Tue Oct 31 21:46:24 +0000 2017</td>\n",
              "      <td>@115712 Can you please send us a private messa...</td>\n",
              "      <td>5,7</td>\n",
              "      <td>8.0</td>\n",
              "    </tr>\n",
              "    <tr>\n",
              "      <th>8</th>\n",
              "      <td>12</td>\n",
              "      <td>115713</td>\n",
              "      <td>True</td>\n",
              "      <td>Tue Oct 31 22:04:47 +0000 2017</td>\n",
              "      <td>@sprintcare You gonna magically change your co...</td>\n",
              "      <td>11,13,14</td>\n",
              "      <td>15.0</td>\n",
              "    </tr>\n",
              "    <tr>\n",
              "      <th>9</th>\n",
              "      <td>15</td>\n",
              "      <td>sprintcare</td>\n",
              "      <td>False</td>\n",
              "      <td>Tue Oct 31 20:03:31 +0000 2017</td>\n",
              "      <td>@115713 We understand your concerns and we'd l...</td>\n",
              "      <td>12</td>\n",
              "      <td>16.0</td>\n",
              "    </tr>\n",
              "    <tr>\n",
              "      <th>10</th>\n",
              "      <td>16</td>\n",
              "      <td>115713</td>\n",
              "      <td>True</td>\n",
              "      <td>Tue Oct 31 20:00:43 +0000 2017</td>\n",
              "      <td>@sprintcare Since I signed up with you....Sinc...</td>\n",
              "      <td>15</td>\n",
              "      <td>17.0</td>\n",
              "    </tr>\n",
              "    <tr>\n",
              "      <th>11</th>\n",
              "      <td>17</td>\n",
              "      <td>sprintcare</td>\n",
              "      <td>False</td>\n",
              "      <td>Tue Oct 31 19:59:13 +0000 2017</td>\n",
              "      <td>@115713 H there! We'd definitely like to work ...</td>\n",
              "      <td>16</td>\n",
              "      <td>18.0</td>\n",
              "    </tr>\n",
              "    <tr>\n",
              "      <th>15</th>\n",
              "      <td>21</td>\n",
              "      <td>Ask_Spectrum</td>\n",
              "      <td>False</td>\n",
              "      <td>Tue Oct 31 22:14:37 +0000 2017</td>\n",
              "      <td>@115716 What information is incorrect? ^JK</td>\n",
              "      <td>22,23</td>\n",
              "      <td>24.0</td>\n",
              "    </tr>\n",
              "  </tbody>\n",
              "</table>\n",
              "</div>"
            ],
            "text/plain": [
              "    tweet_id     author_id  ...  response_tweet_id in_response_to_tweet_id\n",
              "0          1    sprintcare  ...                  2                     3.0\n",
              "2          3        115712  ...                  1                     4.0\n",
              "3          4    sprintcare  ...                  3                     5.0\n",
              "4          5        115712  ...                  4                     6.0\n",
              "5          6    sprintcare  ...                5,7                     8.0\n",
              "8         12        115713  ...           11,13,14                    15.0\n",
              "9         15    sprintcare  ...                 12                    16.0\n",
              "10        16        115713  ...                 15                    17.0\n",
              "11        17    sprintcare  ...                 16                    18.0\n",
              "15        21  Ask_Spectrum  ...              22,23                    24.0\n",
              "\n",
              "[10 rows x 7 columns]"
            ]
          },
          "metadata": {
            "tags": []
          },
          "execution_count": 8
        }
      ]
    },
    {
      "cell_type": "code",
      "metadata": {
        "colab": {
          "base_uri": "https://localhost:8080/"
        },
        "id": "nVkJh0Y7cx7g",
        "outputId": "74f451b0-722c-4ea1-94e1-9b50e3aabc44"
      },
      "source": [
        "len(df)"
      ],
      "execution_count": 9,
      "outputs": [
        {
          "output_type": "execute_result",
          "data": {
            "text/plain": [
              "976810"
            ]
          },
          "metadata": {
            "tags": []
          },
          "execution_count": 9
        }
      ]
    },
    {
      "cell_type": "code",
      "metadata": {
        "colab": {
          "base_uri": "https://localhost:8080/",
          "height": 545
        },
        "id": "akLhF6JWdLHr",
        "outputId": "9c0fefad-2134-470f-aefd-b886760e6559"
      },
      "source": [
        "df = df.set_index(\"tweet_id\")\r\n",
        "df.head(15)"
      ],
      "execution_count": 10,
      "outputs": [
        {
          "output_type": "execute_result",
          "data": {
            "text/html": [
              "<div>\n",
              "<style scoped>\n",
              "    .dataframe tbody tr th:only-of-type {\n",
              "        vertical-align: middle;\n",
              "    }\n",
              "\n",
              "    .dataframe tbody tr th {\n",
              "        vertical-align: top;\n",
              "    }\n",
              "\n",
              "    .dataframe thead th {\n",
              "        text-align: right;\n",
              "    }\n",
              "</style>\n",
              "<table border=\"1\" class=\"dataframe\">\n",
              "  <thead>\n",
              "    <tr style=\"text-align: right;\">\n",
              "      <th></th>\n",
              "      <th>author_id</th>\n",
              "      <th>inbound</th>\n",
              "      <th>created_at</th>\n",
              "      <th>text</th>\n",
              "      <th>response_tweet_id</th>\n",
              "      <th>in_response_to_tweet_id</th>\n",
              "    </tr>\n",
              "    <tr>\n",
              "      <th>tweet_id</th>\n",
              "      <th></th>\n",
              "      <th></th>\n",
              "      <th></th>\n",
              "      <th></th>\n",
              "      <th></th>\n",
              "      <th></th>\n",
              "    </tr>\n",
              "  </thead>\n",
              "  <tbody>\n",
              "    <tr>\n",
              "      <th>1</th>\n",
              "      <td>sprintcare</td>\n",
              "      <td>False</td>\n",
              "      <td>Tue Oct 31 22:10:47 +0000 2017</td>\n",
              "      <td>@115712 I understand. I would like to assist y...</td>\n",
              "      <td>2</td>\n",
              "      <td>3.0</td>\n",
              "    </tr>\n",
              "    <tr>\n",
              "      <th>3</th>\n",
              "      <td>115712</td>\n",
              "      <td>True</td>\n",
              "      <td>Tue Oct 31 22:08:27 +0000 2017</td>\n",
              "      <td>@sprintcare I have sent several private messag...</td>\n",
              "      <td>1</td>\n",
              "      <td>4.0</td>\n",
              "    </tr>\n",
              "    <tr>\n",
              "      <th>4</th>\n",
              "      <td>sprintcare</td>\n",
              "      <td>False</td>\n",
              "      <td>Tue Oct 31 21:54:49 +0000 2017</td>\n",
              "      <td>@115712 Please send us a Private Message so th...</td>\n",
              "      <td>3</td>\n",
              "      <td>5.0</td>\n",
              "    </tr>\n",
              "    <tr>\n",
              "      <th>5</th>\n",
              "      <td>115712</td>\n",
              "      <td>True</td>\n",
              "      <td>Tue Oct 31 21:49:35 +0000 2017</td>\n",
              "      <td>@sprintcare I did.</td>\n",
              "      <td>4</td>\n",
              "      <td>6.0</td>\n",
              "    </tr>\n",
              "    <tr>\n",
              "      <th>6</th>\n",
              "      <td>sprintcare</td>\n",
              "      <td>False</td>\n",
              "      <td>Tue Oct 31 21:46:24 +0000 2017</td>\n",
              "      <td>@115712 Can you please send us a private messa...</td>\n",
              "      <td>5,7</td>\n",
              "      <td>8.0</td>\n",
              "    </tr>\n",
              "    <tr>\n",
              "      <th>12</th>\n",
              "      <td>115713</td>\n",
              "      <td>True</td>\n",
              "      <td>Tue Oct 31 22:04:47 +0000 2017</td>\n",
              "      <td>@sprintcare You gonna magically change your co...</td>\n",
              "      <td>11,13,14</td>\n",
              "      <td>15.0</td>\n",
              "    </tr>\n",
              "    <tr>\n",
              "      <th>15</th>\n",
              "      <td>sprintcare</td>\n",
              "      <td>False</td>\n",
              "      <td>Tue Oct 31 20:03:31 +0000 2017</td>\n",
              "      <td>@115713 We understand your concerns and we'd l...</td>\n",
              "      <td>12</td>\n",
              "      <td>16.0</td>\n",
              "    </tr>\n",
              "    <tr>\n",
              "      <th>16</th>\n",
              "      <td>115713</td>\n",
              "      <td>True</td>\n",
              "      <td>Tue Oct 31 20:00:43 +0000 2017</td>\n",
              "      <td>@sprintcare Since I signed up with you....Sinc...</td>\n",
              "      <td>15</td>\n",
              "      <td>17.0</td>\n",
              "    </tr>\n",
              "    <tr>\n",
              "      <th>17</th>\n",
              "      <td>sprintcare</td>\n",
              "      <td>False</td>\n",
              "      <td>Tue Oct 31 19:59:13 +0000 2017</td>\n",
              "      <td>@115713 H there! We'd definitely like to work ...</td>\n",
              "      <td>16</td>\n",
              "      <td>18.0</td>\n",
              "    </tr>\n",
              "    <tr>\n",
              "      <th>21</th>\n",
              "      <td>Ask_Spectrum</td>\n",
              "      <td>False</td>\n",
              "      <td>Tue Oct 31 22:14:37 +0000 2017</td>\n",
              "      <td>@115716 What information is incorrect? ^JK</td>\n",
              "      <td>22,23</td>\n",
              "      <td>24.0</td>\n",
              "    </tr>\n",
              "    <tr>\n",
              "      <th>22</th>\n",
              "      <td>115716</td>\n",
              "      <td>True</td>\n",
              "      <td>Tue Oct 31 22:16:48 +0000 2017</td>\n",
              "      <td>@Ask_Spectrum Would you like me to email you a...</td>\n",
              "      <td>25</td>\n",
              "      <td>21.0</td>\n",
              "    </tr>\n",
              "    <tr>\n",
              "      <th>25</th>\n",
              "      <td>Ask_Spectrum</td>\n",
              "      <td>False</td>\n",
              "      <td>Tue Oct 31 22:18:28 +0000 2017</td>\n",
              "      <td>@115716 Our department is part of the corporat...</td>\n",
              "      <td>26</td>\n",
              "      <td>22.0</td>\n",
              "    </tr>\n",
              "    <tr>\n",
              "      <th>26</th>\n",
              "      <td>115716</td>\n",
              "      <td>True</td>\n",
              "      <td>Tue Oct 31 22:19:56 +0000 2017</td>\n",
              "      <td>@Ask_Spectrum I received this from your corpor...</td>\n",
              "      <td>27</td>\n",
              "      <td>25.0</td>\n",
              "    </tr>\n",
              "    <tr>\n",
              "      <th>24</th>\n",
              "      <td>115716</td>\n",
              "      <td>True</td>\n",
              "      <td>Tue Oct 31 22:13:02 +0000 2017</td>\n",
              "      <td>@Ask_Spectrum That is INCORRECT information I ...</td>\n",
              "      <td>21</td>\n",
              "      <td>28.0</td>\n",
              "    </tr>\n",
              "    <tr>\n",
              "      <th>28</th>\n",
              "      <td>Ask_Spectrum</td>\n",
              "      <td>False</td>\n",
              "      <td>Tue Oct 31 22:05:37 +0000 2017</td>\n",
              "      <td>@115716 The information pertaining to the acco...</td>\n",
              "      <td>24</td>\n",
              "      <td>29.0</td>\n",
              "    </tr>\n",
              "  </tbody>\n",
              "</table>\n",
              "</div>"
            ],
            "text/plain": [
              "             author_id  inbound  ... response_tweet_id in_response_to_tweet_id\n",
              "tweet_id                         ...                                          \n",
              "1           sprintcare    False  ...                 2                     3.0\n",
              "3               115712     True  ...                 1                     4.0\n",
              "4           sprintcare    False  ...                 3                     5.0\n",
              "5               115712     True  ...                 4                     6.0\n",
              "6           sprintcare    False  ...               5,7                     8.0\n",
              "12              115713     True  ...          11,13,14                    15.0\n",
              "15          sprintcare    False  ...                12                    16.0\n",
              "16              115713     True  ...                15                    17.0\n",
              "17          sprintcare    False  ...                16                    18.0\n",
              "21        Ask_Spectrum    False  ...             22,23                    24.0\n",
              "22              115716     True  ...                25                    21.0\n",
              "25        Ask_Spectrum    False  ...                26                    22.0\n",
              "26              115716     True  ...                27                    25.0\n",
              "24              115716     True  ...                21                    28.0\n",
              "28        Ask_Spectrum    False  ...                24                    29.0\n",
              "\n",
              "[15 rows x 6 columns]"
            ]
          },
          "metadata": {
            "tags": []
          },
          "execution_count": 10
        }
      ]
    },
    {
      "cell_type": "code",
      "metadata": {
        "colab": {
          "base_uri": "https://localhost:8080/"
        },
        "id": "E1YbxoJSDwZv",
        "outputId": "c9d15281-07d0-4824-eb9e-3cb998406b3a"
      },
      "source": [
        "df = df.head(5000)\r\n",
        "len(df)"
      ],
      "execution_count": 11,
      "outputs": [
        {
          "output_type": "execute_result",
          "data": {
            "text/plain": [
              "5000"
            ]
          },
          "metadata": {
            "tags": []
          },
          "execution_count": 11
        }
      ]
    },
    {
      "cell_type": "code",
      "metadata": {
        "id": "gTcNcb71dzyR"
      },
      "source": [
        "questions = []\r\n",
        "answers = []\r\n",
        "for i in df.index:\r\n",
        "  responses = df.response_tweet_id[i].split(',')\r\n",
        "  responses = [int(j) for j in responses]\r\n",
        "  for res in responses:\r\n",
        "    if (res in df.index):\r\n",
        "      ques = df.text[i]\r\n",
        "      #print(ques)\r\n",
        "      ans = df.text[res]\r\n",
        "      #print(ans)\r\n",
        "      questions.append(ques)\r\n",
        "      answers.append(ans)\r\n",
        "    "
      ],
      "execution_count": 12,
      "outputs": []
    },
    {
      "cell_type": "code",
      "metadata": {
        "colab": {
          "base_uri": "https://localhost:8080/"
        },
        "id": "D_M4atnXisVl",
        "outputId": "eaa44830-8646-4a99-eb0d-356fa7471ad1"
      },
      "source": [
        "len(questions), len(answers)"
      ],
      "execution_count": 13,
      "outputs": [
        {
          "output_type": "execute_result",
          "data": {
            "text/plain": [
              "(3376, 3376)"
            ]
          },
          "metadata": {
            "tags": []
          },
          "execution_count": 13
        }
      ]
    },
    {
      "cell_type": "code",
      "metadata": {
        "colab": {
          "base_uri": "https://localhost:8080/"
        },
        "id": "07jbXNbdjAeX",
        "outputId": "486e71d4-5c4e-4e30-b2bb-d1da6385647c"
      },
      "source": [
        "questions[:15], answers[:15]"
      ],
      "execution_count": 14,
      "outputs": [
        {
          "output_type": "execute_result",
          "data": {
            "text/plain": [
              "(['@sprintcare I have sent several private messages and no one is responding as usual',\n",
              "  '@115712 Please send us a Private Message so that we can further assist you. Just click ‘Message’ at the top of your profile.',\n",
              "  '@sprintcare I did.',\n",
              "  '@115712 Can you please send us a private message, so that I can gain further details about your account?',\n",
              "  \"@115713 We understand your concerns and we'd like for you to please send us a Direct Message, so that we can further assist you. -AA\",\n",
              "  '@sprintcare Since I signed up with you....Since day 1',\n",
              "  \"@115713 H there! We'd definitely like to work with you on this, how long have you been experiencing this issue? -AA\",\n",
              "  '@115716 What information is incorrect? ^JK',\n",
              "  '@Ask_Spectrum Would you like me to email you a copy of one since Spectrum is not updating your training?',\n",
              "  \"@115716 Our department is part of the corporate office.  If you're particular area has gone to this format, we were unawa... https://t.co/P7XCmTzPQj\",\n",
              "  '@Ask_Spectrum That is INCORRECT information I have the form in front of me that is faxed over-maybe you need to maintain up to date information',\n",
              "  '@115716 The information pertaining to the account assumption is correct.  This does need to be done at a local outlet wit... https://t.co/P7XCmTzPQj',\n",
              "  '@115719 Help has arrived! We are sorry to see that you are having trouble. How can we help?\\n^HSB',\n",
              "  '@115721 Please follow and DM us so that we can look into this order. \\n^HSB',\n",
              "  '@VerizonSupport What else can I provide? They refuse to help me because they cannot validate the account...'],\n",
              " ['@115712 I understand. I would like to assist you. We would need to get you into a private secured link to further assist.',\n",
              "  '@sprintcare I have sent several private messages and no one is responding as usual',\n",
              "  '@115712 Please send us a Private Message so that we can further assist you. Just click ‘Message’ at the top of your profile.',\n",
              "  '@sprintcare I did.',\n",
              "  '@sprintcare You gonna magically change your connectivity for me and my whole family ? 🤥 💯',\n",
              "  \"@115713 We understand your concerns and we'd like for you to please send us a Direct Message, so that we can further assist you. -AA\",\n",
              "  '@sprintcare Since I signed up with you....Since day 1',\n",
              "  '@Ask_Spectrum Would you like me to email you a copy of one since Spectrum is not updating your training?',\n",
              "  \"@115716 Our department is part of the corporate office.  If you're particular area has gone to this format, we were unawa... https://t.co/P7XCmTzPQj\",\n",
              "  '@Ask_Spectrum I received this from your corporate office would you like a copy?',\n",
              "  '@115716 What information is incorrect? ^JK',\n",
              "  '@Ask_Spectrum That is INCORRECT information I have the form in front of me that is faxed over-maybe you need to maintain up to date information',\n",
              "  '@VerizonSupport I finally got someone that helped me, thanks!',\n",
              "  '@VerizonSupport What else can I provide? They refuse to help me because they cannot validate the account...',\n",
              "  '@115721 We would not be able to verify anything without authenticating your account.\\n^JAY'])"
            ]
          },
          "metadata": {
            "tags": []
          },
          "execution_count": 14
        }
      ]
    },
    {
      "cell_type": "code",
      "metadata": {
        "id": "oohiesy8mH57"
      },
      "source": [
        "Questions_Fourth = data.Field(sequential = True, tokenize = 'spacy', batch_first =True)#, include_lengths=True)\r\n",
        "Answers_Fourth = data.Field(tokenize ='spacy', is_target=True, batch_first =True)#, sequential =False)"
      ],
      "execution_count": 15,
      "outputs": []
    },
    {
      "cell_type": "code",
      "metadata": {
        "id": "qec_UUccmH04"
      },
      "source": [
        "fields = [('questions_fourth', Questions_Fourth),('answers_fourth', Answers_Fourth)]"
      ],
      "execution_count": 16,
      "outputs": []
    },
    {
      "cell_type": "code",
      "metadata": {
        "id": "ndcPiVOVmHoQ"
      },
      "source": [
        "example = [data.Example.fromlist([questions[i],answers[i]], fields) for i in range(len(questions))] "
      ],
      "execution_count": 17,
      "outputs": []
    },
    {
      "cell_type": "code",
      "metadata": {
        "id": "ndIzGHl2mHj3"
      },
      "source": [
        "twitterDataset = data.Dataset(example, fields)"
      ],
      "execution_count": 18,
      "outputs": []
    },
    {
      "cell_type": "code",
      "metadata": {
        "id": "fpwKHDpnmHfd"
      },
      "source": [
        "(Train_Dataset_Fourth, Valid_Dataset_Fourth) = twitterDataset.split(split_ratio=[0.85, 0.15], random_state=random.seed(SEED))"
      ],
      "execution_count": 19,
      "outputs": []
    },
    {
      "cell_type": "code",
      "metadata": {
        "colab": {
          "base_uri": "https://localhost:8080/"
        },
        "id": "-h0Hisr4m6-Y",
        "outputId": "af6b0c67-91b4-4db6-f820-e3a80ae343ac"
      },
      "source": [
        "(len(Train_Dataset_Fourth), len(Valid_Dataset_Fourth))"
      ],
      "execution_count": 20,
      "outputs": [
        {
          "output_type": "execute_result",
          "data": {
            "text/plain": [
              "(2870, 506)"
            ]
          },
          "metadata": {
            "tags": []
          },
          "execution_count": 20
        }
      ]
    },
    {
      "cell_type": "code",
      "metadata": {
        "colab": {
          "base_uri": "https://localhost:8080/"
        },
        "id": "PjUMdb_Hm9X4",
        "outputId": "b68a8e94-3f49-474e-a9ff-1e6ea98efccb"
      },
      "source": [
        "print(vars(Train_Dataset_Fourth.examples[0]))\r\n",
        "print(vars(Valid_Dataset_Fourth.examples[0]))"
      ],
      "execution_count": 21,
      "outputs": [
        {
          "output_type": "stream",
          "text": [
            "{'questions_fourth': ['@119504', 'We', 'apologize', 'for', 'the', 'misunderstanding', '.', 'You', 'check', 'the', 'status', 'of', 'your', 'order', 'at', 'https://t.co/RDgqxv7W9w', '.', '-', 'KC'], 'answers_fourth': ['@sprintcare', '?', '?', '?', '?', '?', 'https://t.co/1ipFZBAKom']}\n",
            "{'questions_fourth': ['@118079', 'We', \"'d\", 'still', 'like', 'to', 'help', '.', 'What', 'does', 'the', 'tracking', 'show', 'in', 'Your', 'Orders', ':', 'https://t.co/PCtircFm5C', '?', 'Who', 'is', 'the', 'carrier', 'here', '?', '^SJ'], 'answers_fourth': ['@AmazonHelp', 'I', 'called', 'customer', 'serv', ',', 'they', 'called', 'usps', 'and', 'the', 'usps', 'rep', 'blamed', 'your', 'routing', '.', 'The', 'second', 'the', 'usps', 'rep', 'was', 'off', 'the', 'phone', 'Amazon', 'blamed', 'usps']}\n"
          ],
          "name": "stdout"
        }
      ]
    },
    {
      "cell_type": "code",
      "metadata": {
        "id": "iWbiickjm9PW"
      },
      "source": [
        "Questions_Fourth.build_vocab(Train_Dataset_Fourth, min_freq = 2)\r\n",
        "Answers_Fourth.build_vocab(Train_Dataset_Fourth, min_freq = 2)"
      ],
      "execution_count": 22,
      "outputs": []
    },
    {
      "cell_type": "code",
      "metadata": {
        "colab": {
          "base_uri": "https://localhost:8080/"
        },
        "id": "u2VUFCn9m9MQ",
        "outputId": "92d2e894-02fa-47fa-cb98-fe94dfa73407"
      },
      "source": [
        "print('Size of input vocab : ', len(Questions_Fourth.vocab))\r\n",
        "print('Size of label vocab : ', len(Answers_Fourth.vocab))\r\n",
        "print('Top 10 words appreared repeatedly :', list(Questions_Fourth.vocab.freqs.most_common(10)))\r\n",
        "print('Labels : ', Answers_Fourth.vocab.stoi)"
      ],
      "execution_count": 23,
      "outputs": [
        {
          "output_type": "stream",
          "text": [
            "Size of input vocab :  3453\n",
            "Size of label vocab :  3338\n",
            "Top 10 words appreared repeatedly : [('.', 2642), ('the', 1598), ('to', 1547), ('you', 1495), (',', 1340), ('?', 1017), ('I', 991), ('!', 800), ('a', 718), ('and', 686)]\n",
            "Labels :  defaultdict(<function _default_unk_index at 0x7f92060c0f28>, {'<unk>': 0, '<pad>': 1, '.': 2, 'the': 3, 'to': 4, 'I': 5, ',': 6, 'you': 7, '?': 8, 'a': 9, 'and': 10, '!': 11, 'it': 12, 'for': 13, 'on': 14, 'is': 15, 'your': 16, 'have': 17, 'in': 18, 'this': 19, 'of': 20, 'my': 21, 'we': 22, 'that': 23, 'with': 24, 'can': 25, 'not': 26, 'be': 27, 'are': 28, 'us': 29, 'We': 30, 'do': 31, \"n't\": 32, 'me': 33, ' ': 34, 'was': 35, '-': 36, \"'s\": 37, '@AmazonHelp': 38, 'but': 39, 'so': 40, 'will': 41, '@Tesco': 42, 'at': 43, 'Thanks': 44, 'get': 45, 'just': 46, 'an': 47, 'DM': 48, 'n’t': 49, 'out': 50, '#': 51, '...': 52, ':': 53, 'our': 54, 'It': 55, 'Please': 56, 'if': 57, 'from': 58, 'as': 59, 'help': 60, 'no': 61, 'up': 62, '’s': 63, '\\n': 64, 'there': 65, 'or': 66, 'did': 67, ';': 68, 'i': 69, 'they': 70, '@AppleSupport': 71, '@sainsburys': 72, 'back': 73, 'now': 74, 'Hi': 75, \"'ll\": 76, 'know': 77, 'all': 78, '@Morrisons': 79, 'here': 80, '&': 81, 'The': 82, 'when': 83, 'any': 84, 'like': 85, '@117249': 86, 'please': 87, 'what': 88, '@AldiUK': 89, 'email': 90, 'still': 91, 'would': 92, '@117248': 93, 'issue': 94, '@117250': 95, 'been': 96, '@117246': 97, '@marksandspencer': 98, 'You': 99, 'about': 100, 'has': 101, \"'re\": 102, \"'m\": 103, '@117251': 104, 'Thank': 105, '@117241': 106, 'need': 107, 'phone': 108, 'time': 109, '@ChipotleTweets': 110, 'account': 111, '\"': 112, 'If': 113, 'see': 114, 'had': 115, 'No': 116, 'check': 117, 'service': 118, '@VerizonSupport': 119, '*': 120, 'ca': 121, 'one': 122, 'amp': 123, 'look': 124, 'number': 125, 'more': 126, 'able': 127, 'am': 128, ')': 129, 'What': 130, 'Yes': 131, 'app': 132, '@SpotifyCares': 133, 'does': 134, 'into': 135, \"'ve\": 136, '(': 137, '2': 138, 'got': 139, 'link': 140, 'order': 141, 'send': 142, '@117243': 143, '@117244': 144, '@Delta': 145, 'again': 146, 'by': 147, 'try': 148, 'work': 149, '。': 150, 'Can': 151, 'team': 152, '@XboxSupport': 153, 'call': 154, '@117247': 155, '_': 156, 'same': 157, 'after': 158, 'how': 159, 'today': 160, '/': 161, 'let': 162, 'want': 163, '@117242': 164, 'sorry': 165, 'update': 166, 'were': 167, '@Ask_Spectrum': 168, 'details': 169, 'take': 170, 'then': 171, 'tried': 172, '’m': 173, '@AskPlayStation': 174, '@British_Airways': 175, 'only': 176, '@hulu_support': 177, 'Just': 178, 'much': 179, \"'d\": 180, 'That': 181, 'address': 182, 'day': 183, 'store': 184, 'sure': 185, 'them': 186, '@AmericanAir': 187, '@TMobileHelp': 188, 'Is': 189, 'go': 190, 'some': 191, 'sent': 192, 'customer': 193, '@AdobeCare': 194, '@SouthwestAir': 195, 'problem': 196, '@comcastcares': 197, 'Do': 198, 'Let': 199, 'Sorry': 200, 'This': 201, 'make': 202, 'reply': 203, 'working': 204, '@Uber_Support': 205, 'could': 206, 'further': 207, 'over': 208, 'through': 209, '..': 210, '@AirAsiaSupport': 211, 'So': 212, 'because': 213, 'contact': 214, 'why': 215, '’ve': 216, 'But': 217, 'My': 218, 'already': 219, 'going': 220, 'info': 221, 'new': 222, 'received': 223, 'Have': 224, 'flight': 225, 'information': 226, 'should': 227, 'which': 228, 'available': 229, 'iOS': 230, 'other': 231, 'via': 232, 'way': 233, 'days': 234, 'thanks': 235, 'too': 236, ':)': 237, 'Are': 238, 'They': 239, 'done': 240, 'find': 241, 'pies': 242, 'using': 243, 'also': 244, 'assist': 245, 'follow': 246, 'times': 247, '4': 248, 'before': 249, 'last': 250, 'reach': 251, '@117252': 252, 'Hey': 253, 'getting': 254, 'guys': 255, 'use': 256, '\\n\\n': 257, '2/2': 258, 'And': 259, 'anything': 260, 'case': 261, 'even': 262, 'give': 263, 'updated': 264, 'version': 265, 'yet': 266, 'being': 267, 'down': 268, 'great': 269, 'hear': 270, 'message': 271, 'off': 272, 'right': 273, 'thank': 274, 'think': 275, 'told': 276, 'trying': 277, 'wait': 278, '😂': 279, 'change': 280, 'happy': 281, 'nt': 282, 'provide': 283, '1': 284, 'Hello': 285, 'When': 286, 'issues': 287, 'said': 288, 'very': 289, '@sprintcare': 290, 'Did': 291, 'How': 292, 'another': 293, 'good': 294, 'mincepiewars': 295, 'next': 296, 'nothing': 297, 'since': 298, 'soon': 299, 'who': 300, '3': 301, 'Could': 302, 'having': 303, '@CoxHelp': 304, 'code': 305, 'date': 306, 'error': 307, 'may': 308, 'response': 309, 'understand': 310, 'wo': 311, '@MicrosoftHelps': 312, 'else': 313, 'feedback': 314, 'pie': 315, 'where': 316, '“': 317, 'Not': 318, 'access': 319, 'always': 320, 'care': 321, 'connection': 322, 'device': 323, 'fine': 324, 'fixed': 325, 'gt': 326, 'hours': 327, 'keep': 328, 'never': 329, 'people': 330, 'really': 331, 'say': 332, 'steps': 333, 'their': 334, '’re': 335, '”': 336, '@117245': 337, '@ATVIAssist': 338, 'There': 339, 'card': 340, 'mince': 341, 'name': 342, 'says': 343, 'share': 344, 'well': 345, '@AskeBay': 346, '@GloCare': 347, 'I️': 348, 'game': 349, 'internet': 350, 'refund': 351, 'support': 352, 'tell': 353, 'than': 354, 'though': 355, '🤣': 356, 'Amazon': 357, 'delivery': 358, 'long': 359, 'someone': 360, 'waiting': 361, '’ll': 362, '10': 363, '11.1': 364, '5': 365, '@NortonSupport': 366, 'Well': 367, 'bag': 368, 'iPhone': 369, 'm': 370, 'something': 371, 'these': 372, 'thing': 373, '$': 374, '6': 375, '@117260': 376, '@BofA_Help': 377, 'Any': 378, 'Oh': 379, 'Ok': 380, 'around': 381, 'best': 382, 'currently': 383, 'he': 384, 'hope': 385, 'its': 386, 'late': 387, 'morning': 388, 'options': 389, 'until': 390, '️': 391, '....': 392, '@115911': 393, '@115913': 394, 'actually': 395, 'ask': 396, 'download': 397, 'first': 398, 'happening': 399, 'happens': 400, 'home': 401, 'line': 402, 'money': 403, 'multiple': 404, 'online': 405, 'open': 406, 'play': 407, 'put': 408, 'website': 409, 'without': 410, \"'\": 411, 'Here': 412, 'Spotify': 413, 'Will': 414, 'assistance': 415, 'fix': 416, 'full': 417, 'hour': 418, 'log': 419, 'looking': 420, 'made': 421, 'night': 422, 'reset': 423, 'running': 424, 'screen': 425, 'she': 426, 'show': 427, 'unable': 428, '@AskAmex': 429, 'All': 430, 'Friday': 431, 'Good': 432, 'Our': 433, 'Still': 434, 'Your': 435, 'ago': 436, 'apologize': 437, 'appreciate': 438, 'asking': 439, 'away': 440, 'called': 441, 'chat': 442, 'd': 443, 'directly': 444, 'doing': 445, 'free': 446, 'network': 447, 'option': 448, 'question': 449, 'ready': 450, 'receive': 451, 'resolution': 452, 'run': 453, 'set': 454, 'system': 455, 'those': 456, 'tomorrow': 457, 'week': 458, 'worked': 459, 'works': 460, 'yes': 461, '😊': 462, '+': 463, '1/2': 464, '7': 465, '@AzureSupport': 466, '@TacoBellTeam': 467, 'Does': 468, 'Kindly': 469, 'TV': 470, 'Twitter': 471, 'Which': 472, 'booking': 473, 'come': 474, 'customers': 475, 'delay': 476, 'everything': 477, 'experience': 478, 'feel': 479, 'few': 480, 'given': 481, 'her': 482, 'live': 483, 'local': 484, 'lot': 485, 'month': 486, 'power': 487, 'provided': 488, 'For': 489, 'Would': 490, '^RMD': 491, 'area': 492, 'better': 493, 'both': 494, 'checked': 495, 'different': 496, 'found': 497, 'inconvenience': 498, 'mean': 499, 'modem': 500, 'once': 501, 'pay': 502, 'possible': 503, 'post': 504, 'pre': 505, 'request': 506, 'saying': 507, 'showing': 508, 'site': 509, 'staff': 510, 'test': 511, 'tracking': 512, 'two': 513, 'u': 514, '11': 515, '@117627': 516, '@DropboxSupport': 517, '@VirginAtlantic': 518, 'Done': 519, 'Unfortunately': 520, 'Xbox': 521, 'battery': 522, 'computer': 523, 'due': 524, 'end': 525, 'file': 526, 'gone': 527, 'hard': 528, 'located': 529, 'looks': 530, 'mail': 531, 'minutes': 532, 'offer': 533, 'old': 534, 'reboot': 535, 'resolved': 536, 'updates': 537, 'used': 538, 'yesterday': 539, '11.0.3': 540, '@117625': 541, '@117626': 542, '@119439': 543, '@VirginTrains': 544, '@idea_cares': 545, 'A': 546, 'Also': 547, 'In': 548, 'X': 549, 'concern': 550, 'de': 551, 'delete': 552, 'future': 553, 'glad': 554, 'hold': 555, 'love': 556, 'missing': 557, 'most': 558, 'page': 559, 'pass': 560, 'point': 561, 'results': 562, 'seeing': 563, 'seems': 564, 'services': 565, 'speed': 566, 'ticket': 567, 'tonight': 568, 'took': 569, 'tweet': 570, 'web': 571, '’d': 572, '👍': 573, '100': 574, '@118505': 575, '@ArgosHelpers': 576, '@O2': 577, 'Already': 578, 'Maybe': 579, 'Send': 580, 'Tried': 581, 'Was': 582, 'additional': 583, 'asked': 584, 'business': 585, 'checking': 586, 'delivered': 587, 'devices': 588, 'far': 589, 'files': 590, 'finally': 591, 'fly': 592, 'happened': 593, 'heard': 594, 'item': 595, 'lost': 596, 'many': 597, 'matter': 598, 'months': 599, 'ms': 600, 'personal': 601, 'posted': 602, 'real': 603, 'replied': 604, 'report': 605, 'resolve': 606, 'respond': 607, 'router': 608, 'tasting': 609, 'welcome': 610, 'went': 611, 'year': 612, '24': 613, '8': 614, '@115714': 615, '@116136': 616, '@116354': 617, 'Got': 618, 'Now': 619, 'Settings': 620, 'U': 621, 'Windows': 622, '^NHP': 623, '^RR': 624, 'anyone': 625, 'bad': 626, 'between': 627, 'box': 628, 'complaint': 629, 'confirm': 630, 'every': 631, 'fast': 632, 'following': 633, 'however': 634, 'https://t.co/GDrqU22YpT': 635, 'kind': 636, 'leave': 637, 'literally': 638, 'longer': 639, 'needed': 640, 'part': 641, 'prior': 642, 'process': 643, 'questions': 644, 're': 645, 'reported': 646, 'return': 647, 'settings': 648, 'spoke': 649, 'started': 650, 'stop': 651, 'submit': 652, 'suggest': 653, 'things': 654, 'touch': 655, 'type': 656, 'weeks': 657, '😉': 658, '😡': 659, '    ': 660, '20': 661, '2017': 662, '30': 663, '50': 664, '@118701': 665, '@118824': 666, '@118918': 667, '@48760': 668, '@53205': 669, 'App': 670, 'As': 671, 'Becky': 672, 'CC': 673, 'Keep': 674, 'On': 675, 'One': 676, 'Yeah': 677, 'add': 678, 'agent': 679, 'airline': 680, 'airport': 681, 'allow': 682, 'almost': 683, 'answer': 684, 'bring': 685, 'cable': 686, 'changed': 687, 'close': 688, 'closed': 689, 'continue': 690, 'definitely': 691, 'dm': 692, 'earlier': 693, 'exact': 694, 'flights': 695, 'folder': 696, 'giving': 697, 'guide': 698, 'happen': 699, 'helps': 700, 'idea': 701, 'instead': 702, 'kindly': 703, 'latest': 704, 'location': 705, 'main': 706, 'mind': 707, 'package': 708, 'plan': 709, 'plane': 710, 'pm': 711, 'provider': 712, 'purchase': 713, 'regarding': 714, 'responded': 715, 'review': 716, 'space': 717, 'status': 718, 'submitted': 719, 'talk': 720, 'top': 721, 'train': 722, 'un': 723, 'upgrade': 724, 'video': 725, '  ': 726, '@117628': 727, '@VirginAmerica': 728, 'After': 729, 'Apple': 730, 'Happy': 731, 'Mark': 732, 'Or': 733, 'Order': 734, 'Today': 735, 'Were': 736, '^CO': 737, '^JA': 738, 'advise': 739, 'baggage': 740, 'board': 741, 'came': 742, 'carrier': 743, 'changes': 744, 'channel': 745, 'charge': 746, 'comes': 747, 'coming': 748, 'company': 749, 'console': 750, 'correct': 751, 'cost': 752, 'credit': 753, 'current': 754, 'data': 755, 'driver': 756, 'during': 757, 'feature': 758, 'form': 759, 'items': 760, 'la': 761, 'later': 762, 'least': 763, 'makers': 764, 'moment': 765, 'must': 766, 'nice': 767, 'ok': 768, 'okay': 769, 'ones': 770, 'ordered': 771, 'password': 772, 'patience': 773, 'payment': 774, 'picture': 775, 'poor': 776, 'reference': 777, 'safe': 778, 'seat': 779, 'several': 780, 'shortly': 781, 'software': 782, 'speak': 783, 'start': 784, 'stuff': 785, 'such': 786, 'trouble': 787, 'troubleshooting': 788, 'under': 789, 'unfortunately': 790, 'upload': 791, 'wanted': 792, '-Becky': 793, '@115722': 794, '@115877': 795, '@116211': 796, '@117480': 797, '@7476': 798, '@AlaskaAir': 799, 'ASAP': 800, 'Because': 801, 'Great': 802, 'Halloween': 803, 'May': 804, 'Since': 805, 'TY': 806, '^HP': 807, '^JAY': 808, '^JRA': 809, 'acct': 810, 'along': 811, 'apologies': 812, 'apps': 813, 'believe': 814, 'bonus': 815, 'broken': 816, 'calls': 817, 'cancel': 818, 'claim': 819, 'clear': 820, 'closer': 821, 'competition': 822, 'completely': 823, 'confirmation': 824, 'contacted': 825, 'either': 826, 'el': 827, 'entire': 828, 'expert': 829, 'flying': 830, 'food': 831, 'frustration': 832, 'games': 833, 'left': 834, 'list': 835, 'lol': 836, 'maybe': 837, 'member': 838, 'music': 839, 'office': 840, 'own': 841, 'paid': 842, 'paying': 843, 'person': 844, 'points': 845, 'pretty': 846, 'problems': 847, 'receiving': 848, 'recent': 849, 'record': 850, 's': 851, 'sales': 852, 'shown': 853, 'shows': 854, 'song': 855, 'sorted': 856, 'three': 857, 'turn': 858, 'tv': 859, 'twice': 860, 'warranty': 861, 'while': 862, 'wrong': 863, 'x': 864, 'ya': 865, '…': 866, '！': 867, '🤔': 868, '12': 869, '15': 870, '@116303': 871, '@116661': 872, '@117128': 873, '@117415': 874, '@117904': 875, '@119430': 876, '@Ask_WellsFargo': 877, '@Safaricom_Care': 878, 'Anwar': 879, 'Apologies': 880, 'Appreciate': 881, 'At': 882, 'Customer': 883, 'Delta': 884, 'ErikS': 885, 'G': 886, 'General': 887, 'Glad': 888, 'ID': 889, 'London': 890, 'Message': 891, 'Nothing': 892, 'Prime': 893, 'Same': 894, 'Service': 895, 'TO': 896, 'Then': 897, 'Where': 898, 'Who': 899, '^CB': 900, '^HSB': 901, 'across': 902, 'al': 903, 'amazing': 904, 'amazon': 905, 'arrive': 906, 'arrived': 907, 'backup': 908, 'basic': 909, 'big': 910, 'browser': 911, 'button': 912, 'cash': 913, 'cause': 914, 'chance': 915, 'clarify': 916, 'comments': 917, 'connect': 918, 'conversation': 919, 'couple': 920, 'deleting': 921, 'difference': 922, 'direct': 923, 'each': 924, 'equipment': 925, 'exactly': 926, 'expect': 927, 'extra': 928, 'eye': 929, 'fault': 930, 'fill': 931, 'front': 932, 'frustrating': 933, 'fun': 934, 'gives': 935, 'half': 936, 'him': 937, 'iTunes': 938, 'letter': 939, 'life': 940, 'light': 941, 'luck': 942, 'mentioned': 943, 'messages': 944, 'min': 945, 'mins': 946, 'original': 947, 'others': 948, 'passengers': 949, 'per': 950, 'pic': 951, 'prime': 952, 'product': 953, 'rather': 954, 'reached': 955, 'reaching': 956, 'reason': 957, 'recommend': 958, 'responding': 959, 'revert': 960, 'ride': 961, 'sale': 962, 'screenshot': 963, 'seem': 964, 'seller': 965, 'seriously': 966, 'shipped': 967, 'shipping': 968, 'small': 969, 'sort': 970, 'stock': 971, 'thought': 972, 'till': 973, 'trip': 974, 'users': 975, 'wants': 976, 'watch': 977, 'weekend': 978, 'wifi': 979, 'wired': 980, 'within': 981, '£': 982, '🙂': 983, '%': 984, '.....': 985, '18': 986, '2018': 987, '3/3': 988, '9': 989, ':(': 990, ':/': 991, '@116151': 992, '@116302': 993, '@116668': 994, '@AirbnbHelp': 995, '@ArbysCares': 996, '@ChaseSupport': 997, '@GWRHelp': 998, '@airtel_care': 999, 'Adobe': 1000, 'Again': 1001, 'BA': 1002, 'Comcast': 1003, 'Its': 1004, 'K': 1005, 'Kevin': 1006, 'Lol': 1007, 'Monday': 1008, 'NO': 1009, 'OK': 1010, 'PC': 1011, 'See': 1012, 'She': 1013, 'Should': 1014, 'Sure': 1015, 'To': 1016, 'UK': 1017, 'Very': 1018, 'Why': 1019, 'WiFi': 1020, 'Yana': 1021, '^EZ': 1022, '^KA': 1023, '^Wren': 1024, 'above': 1025, 'action': 1026, 'afraid': 1027, 'answers': 1028, 'anyway': 1029, 'beta': 1030, 'bit': 1031, 'bought': 1032, 'burrito': 1033, 'buy': 1034, 'calling': 1035, 'certainly': 1036, 'charged': 1037, 'concerns': 1038, 'contacting': 1039, 'content': 1040, 'copy': 1041, 'delayed': 1042, 'deleted': 1043, 'deliver': 1044, 'disappointed': 1045, 'doubt': 1046, 'drive': 1047, 'emailed': 1048, 'en': 1049, 'es': 1050, 'everyone': 1051, 'experiencing': 1052, 'failed': 1053, 'friends': 1054, 'gate': 1055, 'gave': 1056, 'goes': 1057, 'helpful': 1058, 'helping': 1059, 'his': 1060, 'house': 1061, 'https://t.co/hApLpMlfHN': 1062, 'install': 1063, 'installed': 1064, 'less': 1065, 'letting': 1066, 'listed': 1067, 'makes': 1068, 'man': 1069, 'meant': 1070, 'might': 1071, 'model': 1072, 'near': 1073, 'needs': 1074, 'nor': 1075, 'numbers': 1076, 'o': 1077, 'pack': 1078, 'past': 1079, 'permissions': 1080, 'pick': 1081, 'pop': 1082, 'private': 1083, 'quick': 1084, 'receipt': 1085, 'release': 1086, 'removed': 1087, 'required': 1088, 'save': 1089, 'seats': 1090, 'second': 1091, 'secured': 1092, 'seen': 1093, 'side': 1094, 'sign': 1095, 'signal': 1096, 'sitting': 1097, 'speeds': 1098, 'splitter': 1099, 'stream': 1100, 'street': 1101, 'stuck': 1102, 'taking': 1103, 'talked': 1104, 'telling': 1105, 'tickets': 1106, 'together': 1107, 'unavailable': 1108, 'user': 1109, 've': 1110, 'wish': 1111, 'worried': 1112, 'worse': 1113, 'worst': 1114, 'y': 1115, '❤': 1116, '😀': 1117, '😩': 1118, '-Sean': 1119, '/JU': 1120, '200': 1121, '3rd': 1122, ';)': 1123, '=': 1124, '@115768': 1125, '@115821': 1126, '@115886': 1127, '@116406': 1128, '@116407': 1129, '@117416': 1130, '@117491': 1131, '@117624': 1132, '@118880': 1133, '@118890': 1134, '@119340': 1135, '@119341': 1136, '@119427': 1137, '@119562': 1138, '@119689': 1139, '@AskPapaJohns': 1140, '@AskPayPal': 1141, '@JetBlue': 1142, '@UPSHelp': 1143, 'ABN': 1144, 'Anything': 1145, 'Awesome': 1146, 'CANT': 1147, 'Check': 1148, 'Deluxe': 1149, 'Enjoy': 1150, 'Even': 1151, 'Feel': 1152, 'Fios': 1153, 'Gotcha': 1154, 'Hmm': 1155, 'Home': 1156, 'However': 1157, 'India': 1158, 'Jack': 1159, 'Kuwait': 1160, 'Like': 1161, 'Mince': 1162, 'Mobile': 1163, 'Nope': 1164, 'O2Guru': 1165, 'Okay': 1166, 'Once': 1167, 'PIR': 1168, 'Pls': 1169, 'Pro': 1170, 'Really': 1171, 'Roku': 1172, 'Social': 1173, 'Store': 1174, 'Support': 1175, 'T': 1176, 'THE': 1177, 'Thx': 1178, 'US': 1179, 'Update': 1180, '^BL': 1181, '^HD': 1182, '^KO': 1183, '^RM': 1184, '^Raj': 1185, 'accounts': 1186, 'added': 1187, 'ahead': 1188, 'airlines': 1189, 'allowed': 1190, 'alternative': 1191, 'amount': 1192, 'annoying': 1193, 'appear': 1194, 'automated': 1195, 'behind': 1196, 'booked': 1197, 'bowl': 1198, 'brand': 1199, 'buffering': 1200, 'busy': 1201, 'car': 1202, 'channels': 1203, 'click': 1204, 'compensation': 1205, 'con': 1206, 'controller': 1207, 'cool': 1208, 'cord': 1209, 'corporate': 1210, 'course': 1211, 'crash': 1212, 'crew': 1213, 'cycle': 1214, 'damage': 1215, 'deal': 1216, 'dealing': 1217, 'default': 1218, 'departure': 1219, 'description': 1220, 'desktop': 1221, 'documents': 1222, 'downloaded': 1223, 'drivers': 1224, 'earliest': 1225, 'early': 1226, 'empty': 1227, 'enough': 1228, 'ever': 1229, 'expected': 1230, 'expired': 1231, 'forward': 1232, 'four': 1233, 'frustrated': 1234, 'guarantee': 1235, 'guy': 1236, 'hate': 1237, 'holiday': 1238, 'https://t.co/GIJyeYqKE0': 1239, 'https://t.co/iuwZCjz4Or': 1240, 'image': 1241, 'improve': 1242, 'instructions': 1243, 'knew': 1244, 'lie': 1245, 'lies': 1246, 'lines': 1247, 'little': 1248, 'lo': 1249, 'load': 1250, 'locked': 1251, 'logged': 1252, 'lower': 1253, 'managed': 1254, 'media': 1255, 'midnight': 1256, 'missed': 1257, 'non': 1258, 'none': 1259, 'onto': 1260, 'orders': 1261, 'outage': 1262, 'outside': 1263, 'particular': 1264, 'photos': 1265, 'pleasure': 1266, 'plz': 1267, 'policy': 1268, 'preorder': 1269, 'press': 1270, 'previous': 1271, 'price': 1272, 'program': 1273, 'public': 1274, 'quality': 1275, 'que': 1276, 'read': 1277, 'recently': 1278, 'ref': 1279, 'referring': 1280, 'regular': 1281, 'reinstalling': 1282, 'rep': 1283, 'replying': 1284, 'requested': 1285, 'require': 1286, 'restarting': 1287, 'restore': 1288, 'road': 1289, 'room': 1290, 'route': 1291, 'score': 1292, 'seconds': 1293, 'security': 1294, 'sending': 1295, 'setup': 1296, 'sharing': 1297, 'similar': 1298, 'solution': 1299, 'sound': 1300, 'suggestions': 1301, 'taken': 1302, 'talking': 1303, 'thinking': 1304, 'total': 1305, 'travel': 1306, 'ur': 1307, 'usually': 1308, 'value': 1309, 'view': 1310, 'w': 1311, 'waited': 1312, 'waste': 1313, 'whatever': 1314, 'whole': 1315, 'wireless': 1316, 'worries': 1317, 'xbox': 1318, \"y'\": 1319, 'years': 1320, 'zero': 1321, '、': 1322, '🏻': 1323, '💀': 1324, '😬': 1325, '😭': 1326, '\\n  ': 1327, '   ': 1328, '-Chris': 1329, '-JP': 1330, '/KB': 1331, '0844': 1332, '17': 1333, '1st': 1334, '25': 1335, '40': 1336, '6s': 1337, '=)': 1338, '@115762': 1339, '@115797': 1340, '@115955': 1341, '@116154': 1342, '@116393': 1343, '@116849': 1344, '@116887': 1345, '@117220': 1346, '@117336': 1347, '@117489': 1348, '@117673': 1349, '@117730': 1350, '@118396': 1351, '@118596': 1352, '@118925': 1353, '@119339': 1354, '@119669': 1355, '@119696': 1356, '@79087': 1357, '@AskTarget': 1358, '@CenturyLinkHelp': 1359, '@LondonMidland': 1360, '@nationalrailenq': 1361, 'AMZL': 1362, 'About': 1363, 'Airlines': 1364, 'Android': 1365, 'Both': 1366, 'Call': 1367, 'Canada': 1368, 'Cheers': 1369, 'Chris': 1370, 'Community': 1371, 'Cortana': 1372, 'DLC': 1373, 'DMs': 1374, 'Direct': 1375, 'E': 1376, 'ET': 1377, 'Ed': 1378, 'Ethernet': 1379, 'Extra': 1380, 'German': 1381, 'Give': 1382, 'Has': 1383, 'He': 1384, 'Hulu': 1385, 'John': 1386, 'Looks': 1387, 'Make': 1388, 'Many': 1389, 'Never': 1390, 'Nov': 1391, 'OH': 1392, 'OS': 1393, 'October': 1394, 'Only': 1395, 'Phone': 1396, 'Plus': 1397, 'Premium': 1398, 'Preston': 1399, 'Priority': 1400, 'Rather': 1401, 'Request': 1402, 'Right': 1403, 'Robbie': 1404, 'SO': 1405, 'Seems': 1406, 'Shoot': 1407, 'Some': 1408, 'Steps': 1409, 'TT': 1410, 'These': 1411, 'Try': 1412, 'Ty': 1413, 'VAS': 1414, 'Verizon': 1415, 'WE': 1416, 'Went': 1417, '^AB': 1418, '^ACM': 1419, '^BE': 1420, '^CR': 1421, '^LR': 1422, '^MK': 1423, '^MS': 1424, '^SS': 1425, '^Tanuj': 1426, 'accept': 1427, 'accordingly': 1428, 'ad': 1429, 'afternoon': 1430, 'anymore': 1431, 'apparently': 1432, 'article': 1433, 'attempt': 1434, 'authorities': 1435, 'automatic': 1436, 'automatically': 1437, 'award': 1438, 'aware': 1439, 'awesome': 1440, 'barcode': 1441, 'bill': 1442, 'billing': 1443, 'bottom': 1444, 'brother': 1445, 'brought': 1446, 'bs': 1447, 'buying': 1448, 'carriers': 1449, 'caused': 1450, 'center': 1451, 'closing': 1452, 'color': 1453, 'communication': 1454, 'connected': 1455, 'consider': 1456, 'convenience': 1457, 'correspondence': 1458, 'coupon': 1459, 'courier': 1460, 'coverage': 1461, 'crashes': 1462, 'created': 1463, 'credit_card': 1464, 'da': 1465, 'deactivate': 1466, 'deadline': 1467, 'delays': 1468, 'denial': 1469, 'dialup': 1470, 'died': 1471, 'difficult': 1472, 'dinner': 1473, 'disabled': 1474, 'door': 1475, 'double': 1476, 'drink': 1477, 'driving': 1478, 'e': 1479, 'eBay': 1480, 'emails': 1481, 'enjoy': 1482, 'espnews': 1483, 'evening': 1484, 'excuse': 1485, 'explain': 1486, 'explained': 1487, 'fees': 1488, 'filed': 1489, 'fire': 1490, 'friend': 1491, 'fuck': 1492, 'gets': 1493, 'global': 1494, 'god': 1495, 'gotten': 1496, 'guaranteed': 1497, 'guess': 1498, 'handled': 1499, 'handling': 1500, 'hands': 1501, 'hardwired': 1502, 'helped': 1503, 'hopefully': 1504, 'hoping': 1505, 'hrs': 1506, 'https://t.co/HXpLyTU79x': 1507, 'https://t.co/JzP7hlA23B': 1508, 'https://t.co/ldFdZRiNAt': 1509, 'immediately': 1510, 'información': 1511, 'investigate': 1512, 'keeps': 1513, 'keyboard': 1514, 'label': 1515, 'lady': 1516, 'laptop': 1517, 'leaderboard': 1518, 'leaving': 1519, 'lets': 1520, 'linked': 1521, 'listen': 1522, 'logging': 1523, 'loss': 1524, 'low': 1525, 'mails': 1526, 'manage': 1527, 'manager': 1528, 'map': 1529, 'match': 1530, 'means': 1531, 'meet': 1532, 'method': 1533, 'miles': 1534, 'mobile': 1535, 'move': 1536, 'news': 1537, 'normal': 1538, 'odd': 1539, 'oh': 1540, 'onboard': 1541, 'opened': 1542, 'packet': 1543, 'para': 1544, 'phones': 1545, 'photo': 1546, 'played': 1547, 'playing': 1548, 'playlist': 1549, 'plugged': 1550, 'prefer': 1551, 'products': 1552, 'promised': 1553, 'providing': 1554, 'pull': 1555, 'rd': 1556, 'reasonable': 1557, 'redeemed': 1558, 'regards': 1559, 'relevant': 1560, 'remember': 1561, 'replacement': 1562, 'resetting': 1563, 'responses': 1564, 'restarted': 1565, 'ridiculous': 1566, 'sad': 1567, 'saw': 1568, 'season': 1569, 'sell': 1570, 'sense': 1571, 'setting': 1572, 'shared': 1573, 'ship': 1574, 'shout': 1575, 'shut': 1576, 'signed': 1577, 'size': 1578, 'songs': 1579, 'sounds': 1580, 'speaking': 1581, 'specific': 1582, 'speculate': 1583, 'sprint': 1584, 'standard': 1585, 'stated': 1586, 'station': 1587, 'stay': 1588, 'step': 1589, 'stopped': 1590, 'stores': 1591, 'straight': 1592, 'subscription': 1593, 'supposed': 1594, 'targets': 1595, 'technician': 1596, 'telephone': 1597, 'terminal': 1598, 'tested': 1599, 'text': 1600, 'third': 1601, 'tips': 1602, 'trace': 1603, 'unlock': 1604, 'ups': 1605, 'urgently': 1606, 'useful': 1607, 'useless': 1608, 'visit': 1609, 'w/': 1610, 'weird': 1611, 'window': 1612, 'write': 1613, 'yeah': 1614, 'yo': 1615, 'yourself': 1616, '’': 1617, '♀': 1618, '♂': 1619, '🎃': 1620, '🏼': 1621, '🏽': 1622, '😁': 1623, '😜': 1624, '🙏': 1625, '🤷': 1626, '-Jen': 1627, '-KB': 1628, '-STS': 1629, '/KC': 1630, '0344': 1631, '1.5': 1632, '11/3': 1633, '122': 1634, '24/7': 1635, '2nd': 1636, '300': 1637, '3G/4': 1638, '3for2': 1639, '400': 1640, '48': 1641, '@': 1642, '@115712': 1643, '@115723': 1644, '@115767': 1645, '@115785': 1646, '@115807': 1647, '@115851': 1648, '@115855': 1649, '@115865': 1650, '@115900': 1651, '@115923': 1652, '@115933': 1653, '@115956': 1654, '@115993': 1655, '@116025': 1656, '@116037': 1657, '@116088': 1658, '@116102': 1659, '@116144': 1660, '@116230': 1661, '@116312': 1662, '@116325': 1663, '@116414': 1664, '@116455': 1665, '@116462': 1666, '@116537': 1667, '@116582': 1668, '@116591': 1669, '@116690': 1670, '@116770': 1671, '@116785': 1672, '@116885': 1673, '@116886': 1674, '@116903': 1675, '@116932': 1676, '@116971': 1677, '@117051': 1678, '@117117': 1679, '@117133': 1680, '@117198': 1681, '@117235': 1682, '@117338': 1683, '@117476': 1684, '@117485': 1685, '@117498': 1686, '@117618': 1687, '@117619': 1688, '@117691': 1689, '@117721': 1690, '@117741': 1691, '@117757': 1692, '@117761': 1693, '@117789': 1694, '@117825': 1695, '@117834': 1696, '@117948': 1697, '@118079': 1698, '@118193': 1699, '@118212': 1700, '@118213': 1701, '@118422': 1702, '@118455': 1703, '@118848': 1704, '@118951': 1705, '@119022': 1706, '@119126': 1707, '@119335': 1708, '@119338': 1709, '@119358': 1710, '@119426': 1711, '@119442': 1712, '@119473': 1713, '@119528': 1714, '@119529': 1715, '@119554': 1716, '@119563': 1717, '@119675': 1718, '@119687': 1719, '@119694': 1720, '@SW_Help': 1721, 'AFC': 1722, 'ALL': 1723, 'Always': 1724, 'American': 1725, 'Amex': 1726, 'Andrew': 1727, 'Argos': 1728, 'Aww': 1729, 'Been': 1730, 'Blackburn': 1731, 'BluRay': 1732, 'Bummer': 1733, 'By': 1734, 'C': 1735, 'CA': 1736, 'Chipotle': 1737, 'Click': 1738, 'Contact': 1739, 'Correct': 1740, 'Cowley': 1741, 'Cox': 1742, 'DC': 1743, 'David': 1744, 'Details': 1745, 'Dropbox': 1746, 'ETA': 1747, 'ETR': 1748, 'Echo': 1749, 'Emma': 1750, 'Everything': 1751, 'Finally': 1752, 'First': 1753, 'Found': 1754, 'From': 1755, 'Germany': 1756, 'Go': 1757, 'HAS': 1758, 'Had': 1759, 'Hope': 1760, 'Hopefully': 1761, \"I'm\": 1762, 'ISP': 1763, 'Iceland': 1764, 'Idea': 1765, 'Ios': 1766, 'Issue': 1767, 'I️t': 1768, 'Jason': 1769, 'Jen': 1770, 'Joanne': 1771, 'Local': 1772, 'Long': 1773, 'Looking': 1774, 'Loreen': 1775, 'MD': 1776, 'MacBook': 1777, 'Manager': 1778, 'Me': 1779, 'Mike': 1780, 'Nectar': 1781, 'Nobody': 1782, 'Nov.': 1783, 'November': 1784, 'ONT': 1785, 'Over': 1786, 'Oxford': 1787, 'PM': 1788, 'PS4': 1789, 'Paul': 1790, 'Phil': 1791, 'Photoshop': 1792, 'Pie': 1793, 'Platinum': 1794, 'Pretty': 1795, 'Problem': 1796, 'Rd': 1797, 'Reset': 1798, 'Rgds': 1799, 'SW': 1800, 'Sadly': 1801, 'Sent': 1802, 'Series': 1803, 'Show': 1804, 'Sounds': 1805, 'Stephen': 1806, 'TBT': 1807, 'Taste': 1808, 'Team': 1809, 'Tell': 1810, 'Tesco': 1811, 'Things': 1812, 'Tomorrow': 1813, 'Tuesday': 1814, 'Two': 1815, 'UPS': 1816, 'UR': 1817, 'Understood': 1818, 'Use': 1819, 'WWII': 1820, 'Wars': 1821, 'WhatsApp': 1822, 'World': 1823, 'Wow': 1824, 'Y’all': 1825, ']': 1826, '^BAB': 1827, '^Clarissa': 1828, '^E': 1829, '^FJ': 1830, '^GM': 1831, '^JI': 1832, '^JP': 1833, '^Jane': 1834, '^LJ': 1835, '^Lisa': 1836, '^Lolly': 1837, '^MB': 1838, '^MH': 1839, '^Oliver': 1840, '^RK': 1841, '^S': 1842, '^SJ': 1843, '^SL': 1844, '^SV': 1845, '^SY': 1846, '^TN': 1847, '^TR': 1848, '^VB': 1849, '^VM': 1850, '^ZH': 1851, '^cr': 1852, 'absolutely': 1853, 'advice': 1854, 'advised': 1855, 'air': 1856, 'allowing': 1857, 'amazonuk': 1858, 'anytime': 1859, 'apology': 1860, 'applied': 1861, 'appropriate': 1862, 'arrives': 1863, 'ass': 1864, 'associate': 1865, 'associated': 1866, 'assume': 1867, 'attendant': 1868, 'audio': 1869, 'auto': 1870, 'availability': 1871, 'avoid': 1872, 'baby': 1873, 'bags': 1874, 'bank': 1875, 'based': 1876, 'basically': 1877, 'bear': 1878, 'become': 1879, 'behalf': 1880, 'below': 1881, 'black': 1882, 'book': 1883, 'bother': 1884, 'branch': 1885, 'bringing': 1886, 'browsing': 1887, 'bug': 1888, 'butter': 1889, 'buttons': 1890, 'cake': 1891, 'camera': 1892, 'causing': 1893, 'certain': 1894, 'charges': 1895, 'chatting': 1896, 'checkout': 1897, 'cheese': 1898, 'children': 1899, 'city': 1900, 'clearly': 1901, 'clothes': 1902, 'colleagues': 1903, 'comment': 1904, 'common': 1905, 'complete': 1906, 'concerned': 1907, 'constantly': 1908, 'consumes': 1909, 'contacto': 1910, 'continues': 1911, 'contract': 1912, 'control': 1913, 'corrected': 1914, 'correction': 1915, 'correctly': 1916, 'costume': 1917, 'country': 1918, 'court': 1919, 'crack': 1920, 'crashing': 1921, 'daily': 1922, 'dates': 1923, 'deactivated': 1924, 'dead': 1925, 'decided': 1926, 'del': 1927, 'delta': 1928, 'department': 1929, 'detail': 1930, 'dial': 1931, 'dis': 1932, 'disconnected': 1933, 'discuss': 1934, 'dog': 1935, 'draw': 1936, 'drop': 1937, 'easier': 1938, 'eaten': 1939, 'edition': 1940, 'effort': 1941, 'employee': 1942, 'enable': 1943, 'ended': 1944, 'engineer': 1945, 'enjoyed': 1946, 'enter': 1947, 'ethernet': 1948, 'event': 1949, 'eventually': 1950, 'everytime': 1951, 'explanation': 1952, 'factory': 1953, 'fare': 1954, 'faster': 1955, 'favorite': 1956, 'fed': 1957, 'figured': 1958, 'final': 1959, 'five': 1960, 'followed': 1961, 'forgot': 1962, 'frequent': 1963, 'fresh': 1964, 'fuel': 1965, 'functionality': 1966, 'funds': 1967, 'g': 1968, 'galaxy': 1969, 'general': 1970, 'glo': 1971, 'green': 1972, 'greyed': 1973, 'hassle': 1974, 'heart': 1975, 'hell': 1976, 'hi': 1977, 'high': 1978, 'holding': 1979, 'homemade': 1980, 'honestly': 1981, 'horrible': 1982, 'hr': 1983, 'https://t.co/6YdK7bvQN7': 1984, 'https://t.co/6iDGBJAc2': 1985, 'https://t.co/Y5jpI9gRhE': 1986, 'https://t.co/jzvkhdlrK5': 1987, 'huge': 1988, 'human': 1989, 'ideas': 1990, 'ill': 1991, 'images': 1992, 'import': 1993, 'imported': 1994, 'improvement': 1995, 'include': 1996, 'including': 1997, 'incorrect': 1998, 'incredibly': 1999, 'indicate': 2000, 'ingredients': 2001, 'initial': 2002, 'inserted': 2003, 'interest': 2004, 'internally': 2005, 'iphone': 2006, 'ist': 2007, 'keeping': 2008, 'keywords': 2009, 'kids': 2010, 'kuwait': 2011, 'launch': 2012, 'leadership': 2013, 'licensing': 2014, 'locator': 2015, 'looked': 2016, 'loop': 2017, 'loose': 2018, 'los': 2019, 'lose': 2020, 'loved': 2021, 'loyal': 2022, 'lt;1': 2023, 'lunch': 2024, 'luxury': 2025, 'mailbox': 2026, 'mailed': 2027, 'meeting': 2028, 'membership': 2029, 'mention': 2030, 'miss': 2031, 'mode': 2032, 'monitor': 2033, 'moved': 2034, 'movies': 2035, 'n': 2036, 'nearest': 2037, 'notes': 2038, 'noticed': 2039, 'notified': 2040, 'offered': 2041, 'official': 2042, 'ongoing': 2043, 'opening': 2044, 'otherwise': 2045, 'ours': 2046, 'outcome': 2047, 'passenger': 2048, 'pathetic': 2049, 'pero': 2050, 'persists': 2051, 'pickup': 2052, 'pilot': 2053, 'place': 2054, 'plans': 2055, 'platform': 2056, 'player': 2057, 'playlists': 2058, 'powering': 2059, 'premium': 2060, 'previously': 2061, 'prices': 2062, 'primary': 2063, 'priority': 2064, 'processed': 2065, 'processing': 2066, 'profile': 2067, 'programming': 2068, 'project': 2069, 'promotions': 2070, 'prompt': 2071, 'proof': 2072, 'properly': 2073, 'purchased': 2074, 'queue': 2075, 'quickly': 2076, 'quite': 2077, 'rate': 2078, 'realize': 2079, 'recall': 2080, 'refer': 2081, 'refresh': 2082, 'register': 2083, 'reimbursement': 2084, 'reinstall': 2085, 'related': 2086, 'released': 2087, 'remain': 2088, 'remote': 2089, 'replaced': 2090, 'reqs': 2091, 'reservation': 2092, 'rest': 2093, 'restart': 2094, 'returned': 2095, 'returning': 2096, 'routes': 2097, 'row': 2098, 'rude': 2099, 'rule': 2100, 'schedule': 2101, 'scheduled': 2102, 'search': 2103, 'select': 2104, 'sellers': 2105, 'selling': 2106, 'separately': 2107, 'server': 2108, 'sfo': 2109, 'shall': 2110, 'shipment': 2111, 'shit': 2112, 'shoot': 2113, 'shopping': 2114, 'showed': 2115, 'signing': 2116, 'simple': 2117, 'simply': 2118, 'slip': 2119, 'social': 2120, 'solve': 2121, 'spectrum': 2122, 'spotify': 2123, 'state': 2124, 'states': 2125, 'stating': 2126, 'stick': 2127, 'stillgoing': 2128, 'stored': 2129, 'streaming': 2130, 'stretch': 2131, 'submitting': 2132, 'suggestion': 2133, 'supplier': 2134, 'supported': 2135, 'switch': 2136, 'ta': 2137, 'tablet': 2138, 'tagged': 2139, 'taste': 2140, 'tech': 2141, 'technical': 2142, 'terrible': 2143, 'tests': 2144, 'thankfully': 2145, 'there!-': 2146, 'thru': 2147, 'tortillas': 2148, 'totes': 2149, 'tracks': 2150, 'trains': 2151, 'transferred': 2152, 'treat': 2153, 'troubleshoot': 2154, 'truly': 2155, 'tweets': 2156, 'ty': 2157, 'una': 2158, 'understanding': 2159, 'unfortunate': 2160, 'username': 2161, 'vouchers': 2162, 'walk': 2163, 'walmart': 2164, 'wanting': 2165, 'war': 2166, 'washed': 2167, 'wasted': 2168, 'watching': 2169, 'weekly': 2170, 'whenever': 2171, 'whether': 2172, 'win': 2173, 'woke': 2174, 'wondering': 2175, 'words': 2176, 'worry': 2177, 'written': 2178, 'y’': 2179, '–': 2180, '‘': 2181, '✨': 2182, 'ありがとうございました': 2183, '🎉': 2184, '🏻\\u200d': 2185, '🏾\\u200d': 2186, '💖': 2187, '😋': 2188, '😘': 2189, '😪': 2190, '🙁': 2191, '🙃': 2192, '🙌': 2193, '🤦': 2194, '\\n ': 2195, '\\n   ': 2196, '       ': 2197, '-Allan': 2198, '-DC': 2199, '-Dee': 2200, '-ES': 2201, '-JA': 2202, '-L.O': 2203, '-Latitia': 2204, '-Mary': 2205, '-NC': 2206, '-Tara': 2207, '......': 2208, '.nbi': 2209, '/2': 2210, '/BH': 2211, '/NS': 2212, '/PL': 2213, '/RH': 2214, '/SJ': 2215, '00447900248601': 2216, '06-Oct-2017': 2217, '08054117690': 2218, '08079772477': 2219, '10/1': 2220, '10/30': 2221, '10/7': 2222, '11.2': 2223, '13': 2224, '13th': 2225, '14': 2226, '140': 2227, '1413106': 2228, '1440': 2229, '1703': 2230, '2/2^Corry': 2231, '2015': 2232, '2015.3': 2233, '2160': 2234, '23': 2235, '23rd': 2236, '25th': 2237, '29th': 2238, '3,719.00': 2239, '360': 2240, '4.40am': 2241, '406': 2242, '466': 2243, '4mins': 2244, '4th': 2245, '500': 2246, '5x': 2247, '6.0.1': 2248, '60': 2249, '7.0': 2250, '7th': 2251, '8895581': 2252, '8:00': 2253, '8th': 2254, '9AM': 2255, '9th': 2256, ':-)': 2257, '@11': 2258, '@115716': 2259, '@115721': 2260, '@115755': 2261, '@115765': 2262, '@115786': 2263, '@115803': 2264, '@115817': 2265, '@115826': 2266, '@115850': 2267, '@115858': 2268, '@115862': 2269, '@115873': 2270, '@115883': 2271, '@115885': 2272, '@115887': 2273, '@115888': 2274, '@115910': 2275, '@115938': 2276, '@115940': 2277, '@115942': 2278, '@116128': 2279, '@116145': 2280, '@116226': 2281, '@116229': 2282, '@116236': 2283, '@116314': 2284, '@116321': 2285, '@116327': 2286, '@116331': 2287, '@116362': 2288, '@116396': 2289, '@116415': 2290, '@116452': 2291, '@116454': 2292, '@116456': 2293, '@116470': 2294, '@116535': 2295, '@116602': 2296, '@116617': 2297, '@116652': 2298, '@116656': 2299, '@116658': 2300, '@116659': 2301, '@116664': 2302, '@116691': 2303, '@116722': 2304, '@116750': 2305, '@116759': 2306, '@116761': 2307, '@116780': 2308, '@116817': 2309, '@116921': 2310, '@117024': 2311, '@117116': 2312, '@117127': 2313, '@117130': 2314, '@117141': 2315, '@117158': 2316, '@117170': 2317, '@117174': 2318, '@117253': 2319, '@117311': 2320, '@117340': 2321, '@117407': 2322, '@117460': 2323, '@117467': 2324, '@117475': 2325, '@117488': 2326, '@117492': 2327, '@117588': 2328, '@117590': 2329, '@117593': 2330, '@117594': 2331, '@117617': 2332, '@117632': 2333, '@117639': 2334, '@117731': 2335, '@117754': 2336, '@117755': 2337, '@117759': 2338, '@117791': 2339, '@117905': 2340, '@117981': 2341, '@118060': 2342, '@118084': 2343, '@118116': 2344, '@118229': 2345, '@118231': 2346, '@118235': 2347, '@118244': 2348, '@118261': 2349, '@118269': 2350, '@118331': 2351, '@118337': 2352, '@118350': 2353, '@118361': 2354, '@118372': 2355, '@118373': 2356, '@118391': 2357, '@118392': 2358, '@118398': 2359, '@118434': 2360, '@118441': 2361, '@118458': 2362, '@118467': 2363, '@118470': 2364, '@118484': 2365, '@118498': 2366, '@118543': 2367, '@118606': 2368, '@118673': 2369, '@118674': 2370, '@118745': 2371, '@118883': 2372, '@118949': 2373, '@118950': 2374, '@118987': 2375, '@118992': 2376, '@118994': 2377, '@118997': 2378, '@119020': 2379, '@119031': 2380, '@119072': 2381, '@119111': 2382, '@119125': 2383, '@119129': 2384, '@119134': 2385, '@119141': 2386, '@119210': 2387, '@119279': 2388, '@119282': 2389, '@119283': 2390, '@119284': 2391, '@119299': 2392, '@119337': 2393, '@119352': 2394, '@119386': 2395, '@119417': 2396, '@119431': 2397, '@119438': 2398, '@119498': 2399, '@119503': 2400, '@119504': 2401, '@119507': 2402, '@119508': 2403, '@119523': 2404, '@119551': 2405, '@119595': 2406, '@119616': 2407, '@119617': 2408, '@119695': 2409, '@626': 2410, '@696': 2411, '@907': 2412, '@AskLyft': 2413, '@AskSeagate': 2414, '@BoostCare': 2415, '@GreggsOfficial': 2416, '@Walmart': 2417, '@YahooCare': 2418, 'A9': 2419, 'ACJ': 2420, 'AF': 2421, 'AFM': 2422, 'AFTER': 2423, 'ATL': 2424, 'Account': 2425, 'Actually': 2426, 'Ah': 2427, 'Ahhh': 2428, 'Alice': 2429, 'Am': 2430, 'America': 2431, 'An': 2432, 'Andy': 2433, 'Ange': 2434, 'Another': 2435, 'Answer': 2436, 'Apparently': 2437, 'AppleTV': 2438, 'Arlo': 2439, 'Auto': 2440, 'Ave': 2441, 'Azure': 2442, 'BEEN': 2443, 'BEST': 2444, 'Basic': 2445, 'Battlefront': 2446, 'Beach': 2447, 'Before': 2448, 'Ben': 2449, 'Benish': 2450, 'Better': 2451, 'Big': 2452, 'Booking': 2453, 'Booths': 2454, 'Bought': 2455, 'Branch': 2456, 'BrendanLee': 2457, 'Brian': 2458, 'CBS': 2459, 'CS': 2460, 'Ca': 2461, 'Cameron': 2462, 'Capitan': 2463, 'Carrier': 2464, 'Center': 2465, 'Ceri': 2466, 'Channel': 2467, 'Channels': 2468, 'Chat': 2469, 'Checked': 2470, 'Checking': 2471, 'Chloe': 2472, 'Christmas': 2473, 'Chrome': 2474, 'City': 2475, 'Classic': 2476, 'Clearly': 2477, 'Cliente': 2478, 'Cloud': 2479, 'Clubcard': 2480, 'CoD': 2481, 'Connector': 2482, 'Consumer': 2483, 'Creative': 2484, 'D': 2485, 'DATA': 2486, \"DM'd\": 2487, 'DO': 2488, 'DVDs': 2489, 'DVR': 2490, 'Damn': 2491, 'Daniel': 2492, 'Darshan': 2493, 'Date': 2494, 'Day': 2495, 'Definitely': 2496, 'Delivery': 2497, 'Departure': 2498, 'Dhiraj': 2499, 'Dm': 2500, 'Eilish': 2501, 'El': 2502, 'Emir': 2503, 'English': 2504, 'Euston': 2505, 'Executive': 2506, 'Express': 2507, 'FR': 2508, 'FROM': 2509, 'Files': 2510, 'Fire': 2511, 'Flight': 2512, 'Florida': 2513, 'Follow': 2514, 'Fox': 2515, 'Fri': 2516, 'GUAC': 2517, 'Gate': 2518, 'Gatwick': 2519, 'Gave': 2520, 'Genesee': 2521, 'Get': 2522, 'Getting': 2523, 'Glo': 2524, 'Going': 2525, 'Guess': 2526, 'HCK': 2527, 'HCM': 2528, 'HD': 2529, 'HDG': 2530, 'HOW': 2531, 'Haha': 2532, 'Heard': 2533, 'Help': 2534, 'Hold': 2535, 'Holidays': 2536, 'Honestly': 2537, 'IS': 2538, 'IT': 2539, 'InDesign': 2540, 'Including': 2541, 'Internet': 2542, 'JJ': 2543, 'James': 2544, 'Jeffrey': 2545, 'JeromyBingham': 2546, 'JoanO': 2547, 'JohnO': 2548, 'Jon': 2549, 'July': 2550, 'June': 2551, 'KC': 2552, 'Kelvin': 2553, 'LAX': 2554, 'LG': 2555, 'LIVE': 2556, 'LTE': 2557, 'Lara': 2558, 'Late': 2559, 'Laura': 2560, 'Lidl': 2561, 'Lightroom': 2562, 'Link': 2563, 'Lissy': 2564, 'Live': 2565, 'Logic': 2566, 'MI': 2567, 'MO': 2568, 'MSP': 2569, 'MY': 2570, 'Mail': 2571, 'Mbps': 2572, 'Media': 2573, 'Merry': 2574, 'Metro': 2575, 'Michigan': 2576, 'Microsoft': 2577, 'Miles': 2578, 'Mon': 2579, 'More': 2580, 'Music': 2581, 'Muyiwa': 2582, 'NOT': 2583, 'NOW': 2584, 'NY': 2585, 'Nah': 2586, 'Name': 2587, 'Neither': 2588, 'New': 2589, 'North': 2590, 'Oct': 2591, 'Oct.': 2592, 'Of': 2593, 'Omg': 2594, 'Open': 2595, 'Orders': 2596, 'Other': 2597, 'PDF': 2598, 'PS': 2599, 'PSN': 2600, 'PatrickUllmann': 2601, 'PayPal': 2602, 'People': 2603, 'Pies': 2604, 'Pilots': 2605, 'PlayStation': 2606, 'Pradnya': 2607, 'Ps': 2608, 'RB': 2609, 'RGB': 2610, 'RR': 2611, 'Ravishankar': 2612, 'Ready': 2613, 'Regards': 2614, 'Relations': 2615, 'Release': 2616, 'Remember': 2617, 'Results': 2618, 'Righty': 2619, 'Road': 2620, 'Robyn': 2621, 'Router': 2622, 'S': 2623, 'SAVE': 2624, 'SFO': 2625, 'SIM': 2626, 'STOP': 2627, 'SWA': 2628, 'Samsung': 2629, 'Saturday': 2630, 'Scores': 2631, 'Second': 2632, 'Services': 2633, 'Servicio': 2634, 'Sha': 2635, 'Si': 2636, 'Simon': 2637, 'Sir': 2638, 'Software': 2639, 'Sophia': 2640, 'Southwest': 2641, 'Special': 2642, 'Specialists': 2643, 'St': 2644, 'Star': 2645, 'Stay': 2646, 'Stephanie': 2647, 'Stick': 2648, 'Stop': 2649, 'Street': 2650, 'Submit': 2651, 'Suggest': 2652, 'Surface': 2653, 'TAC': 2654, 'TESCO': 2655, 'TarynS': 2656, 'Tells': 2657, 'Think': 2658, 'Thought': 2659, 'Thursday': 2660, 'TiannahReagor': 2661, 'Told': 2662, 'Too': 2663, 'Top': 2664, 'Tracey': 2665, 'Tracking': 2666, 'Train': 2667, 'Tristan': 2668, 'Trying': 2669, 'U.S.': 2670, 'UI': 2671, 'UO': 2672, 'URL': 2673, 'USB': 2674, 'USPS': 2675, 'Under': 2676, 'Unlimited': 2677, 'Ur': 2678, 'Uxbridge': 2679, 'VM': 2680, 'Virgin': 2681, 'W.': 2682, 'Want': 2683, 'Welcome': 2684, 'Whatever': 2685, 'Whenever': 2686, 'While': 2687, 'With': 2688, 'XB1X': 2689, 'XboxHelp': 2690, 'Y': 2691, 'YOU': 2692, 'Ya': 2693, 'Yahoo': 2694, 'Yep': 2695, '[': 2696, '^AG': 2697, '^AJ': 2698, '^AK': 2699, '^BG': 2700, '^BS': 2701, '^D': 2702, '^DO': 2703, '^DaniH': 2704, '^EA': 2705, '^FR': 2706, '^HK': 2707, '^JB': 2708, '^JG': 2709, '^JL': 2710, '^JW': 2711, '^LA': 2712, '^MA': 2713, '^MC': 2714, '^MM': 2715, '^Madison': 2716, '^NR': 2717, '^OM': 2718, '^Osebi': 2719, '^PC': 2720, '^RN': 2721, '^RT': 2722, '^SH': 2723, '^SN': 2724, '^TL': 2725, '^WT': 2726, '^bc': 2727, '^kl': 2728, '`': 2729, 'abt': 2730, 'acceptable': 2731, 'accountability': 2732, 'activated': 2733, 'active': 2734, 'actual': 2735, 'adding': 2736, 'addressed': 2737, 'adjust': 2738, 'admin': 2739, 'adobe': 2740, 'against': 2741, 'agents': 2742, 'airtel': 2743, 'airways': 2744, 'alarm': 2745, 'alert': 2746, 'alternate': 2747, 'although': 2748, 'announcement': 2749, 'answering': 2750, 'anyways': 2751, 'anywhere': 2752, 'appears': 2753, 'appreciated': 2754, 'appropriately': 2755, 'arrival': 2756, 'arriving': 2757, 'assigned': 2758, 'assured': 2759, 'atleast': 2760, 'attached': 2761, 'attempted': 2762, 'attention': 2763, 'auch': 2764, 'awaiting': 2765, 'b': 2766, 'backstage': 2767, 'balance': 2768, 'ball': 2769, 'bants': 2770, 'barely': 2771, 'becomes': 2772, 'besides': 2773, 'bills': 2774, 'bin': 2775, 'birthday': 2776, 'blank': 2777, 'blatantly': 2778, 'blocks': 2779, 'blue': 2780, 'blvd': 2781, 'boarding': 2782, 'boo': 2783, 'boorito': 2784, 'bot': 2785, 'bowls': 2786, 'boxes': 2787, 'break': 2788, 'bribery': 2789, 'brilliant': 2790, 'browsers': 2791, 'bt': 2792, 'bummer': 2793, 'burn': 2794, 'burritos': 2795, 'bypass': 2796, 'cabin': 2797, 'cancellation': 2798, 'capable': 2799, 'carriage': 2800, 'catalog': 2801, 'catch': 2802, 'causes': 2803, 'cell': 2804, 'certificates': 2805, 'chair': 2806, 'characters': 2807, 'charger': 2808, 'charging': 2809, 'cheap': 2810, 'cheaper': 2811, 'chipotle': 2812, 'chips': 2813, 'choose': 2814, 'claims': 2815, 'clarification': 2816, 'clever': 2817, 'clicked': 2818, 'clicking': 2819, 'closest': 2820, 'cloud': 2821, 'co': 2822, 'coax': 2823, 'cobro': 2824, 'cold': 2825, 'colleague': 2826, 'collection': 2827, 'comfy': 2828, 'commands': 2829, 'community': 2830, 'completed': 2831, 'complimentary': 2832, 'confidence': 2833, 'confident': 2834, 'conflicting': 2835, 'confusion': 2836, 'connections': 2837, 'constant': 2838, 'consumer': 2839, 'contacts': 2840, 'cook': 2841, 'correo': 2842, 'counter': 2843, 'courtesy': 2844, 'cover': 2845, 'covered': 2846, 'crossed': 2847, 'crown': 2848, 'curious': 2849, 'cut': 2850, 'damaged': 2851, 'dangerously': 2852, 'deactivation': 2853, 'deals': 2854, 'dear': 2855, 'debited': 2856, 'decide': 2857, 'declines': 2858, 'deduction': 2859, 'delay.^Raj': 2860, 'delicious': 2861, 'deluxe': 2862, 'demand': 2863, 'depending': 2864, 'destination': 2865, 'detailed': 2866, 'die': 2867, 'directory': 2868, 'disable': 2869, 'disappeared': 2870, 'disappoint': 2871, 'disappointing': 2872, 'disappointment': 2873, 'diverted': 2874, 'dnt': 2875, 'dollars': 2876, 'dots': 2877, 'downloading': 2878, 'draft': 2879, 'dropped': 2880, 'drove': 2881, 'dying': 2882, 'easy': 2883, 'eaters': 2884, 'ebay': 2885, 'egg': 2886, 'electronic': 2887, 'elevate': 2888, 'eligible': 2889, 'em': 2890, 'employees': 2891, 'enlace': 2892, 'enlarge': 2893, 'ensure': 2894, 'entitled': 2895, 'entrar': 2896, 'entraste': 2897, 'episode': 2898, 'escalated': 2899, 'especially': 2900, 'events': 2901, 'everyday': 2902, 'expecting': 2903, 'expensive': 2904, 'experienced': 2905, 'experts': 2906, 'extended': 2907, 'facebook': 2908, 'facilities': 2909, 'fact': 2910, 'failure': 2911, 'fake': 2912, 'families': 2913, 'family': 2914, 'fantastic': 2915, 'favorites': 2916, 'feeling': 2917, 'filled': 2918, 'fixing': 2919, 'floor': 2920, 'folks': 2921, 'forced': 2922, 'forget': 2923, 'freezes': 2924, 'friday': 2925, 'friendly': 2926, 'frm': 2927, 'fucking': 2928, 'function': 2929, 'funny': 2930, 'furniture': 2931, 'für': 2932, 'gamertag': 2933, 'gb': 2934, 'gesture': 2935, 'gin': 2936, 'girl': 2937, 'gon': 2938, 'goodbye': 2939, 'gow': 2940, 'groceries': 2941, 'group': 2942, 'guac': 2943, 'hair': 2944, 'hairs': 2945, 'handle': 2946, 'handy': 2947, 'hanging': 2948, 'hangs': 2949, 'heads': 2950, 'hello': 2951, 'hide': 2952, 'highway': 2953, 'hit': 2954, 'honor': 2955, 'hotel': 2956, 'hovered': 2957, 'hrow': 2958, 'https://t.co': 2959, 'https://t.co/2Ty8CEO0Dq': 2960, 'https://t.co/3qcAsLFkaY': 2961, 'https://t.co/80YRnjDFDk': 2962, 'https://t.co/8x1k3V3gxT': 2963, 'https://t.co/C3IOhQGizS.': 2964, 'https://t.co/MdMtnTlX6H': 2965, 'https://t.co/NiCy6xiXKC': 2966, 'https://t.co/PbJEgtqanO': 2967, 'https://t.co/PyACxvY8Qo': 2968, 'https://t.co/Q7Ftz6nj80': 2969, 'https://t.co/UUMNDRIFMj': 2970, 'https://t.co/c9WoAfwenP': 2971, 'https://t.co/cxGHt0bCR8': 2972, 'https://t.co/dGvHZWrnnA': 2973, 'https://t.co/py5Z991Bme': 2974, 'https://t.co/rtDvYZOF32': 2975, 'https://t.co/wKJHDXWGRQ': 2976, 'iMessage': 2977, 'iPad': 2978, 'iPhones': 2979, 'iT': 2980, 'iball': 2981, 'identical': 2982, 'idiots': 2983, 'idk': 2984, 'ignoring': 2985, 'illegitimate': 2986, 'immediate': 2987, 'included': 2988, 'inconvenient': 2989, 'increase': 2990, 'indeed': 2991, 'india': 2992, 'individual': 2993, 'indoor': 2994, 'inform': 2995, 'informed': 2996, 'initiate': 2997, 'inning': 2998, 'inside': 2999, 'insight': 3000, 'interface': 3001, 'intermittent': 3002, 'internal': 3003, 'international': 3004, 'investigated': 3005, 'investigating': 3006, 'invites': 3007, 'involved': 3008, 'itenerary': 3009, 'itself': 3010, 'ja': 3011, 'jealous': 3012, 'job': 3013, 'join': 3014, 'joke': 3015, 'jumbo': 3016, 'ke': 3017, 'kept': 3018, 'key': 3019, 'kid': 3020, 'kidding': 3021, 'known': 3022, 'labeled': 3023, 'ladies': 3024, 'landing': 3025, 'large': 3026, 'launched': 3027, 'league': 3028, 'leg': 3029, 'legal': 3030, 'levels': 3031, 'library': 3032, 'lied': 3033, 'lights': 3034, 'lips': 3035, 'lmao': 3036, 'loaded': 3037, 'lock': 3038, 'login': 3039, 'logistics': 3040, 'loo': 3041, 'looping': 3042, 'losing': 3043, 'lots': 3044, 'lounges': 3045, 'loving': 3046, 'loyalty': 3047, 'luggage': 3048, 'machine': 3049, 'macrovision': 3050, 'magical': 3051, 'making': 3052, 'management': 3053, 'manually': 3054, 'mb': 3055, 'mbps': 3056, 'meantime': 3057, 'meat': 3058, 'medical': 3059, 'mens': 3060, 'messed': 3061, 'mi': 3062, 'middle': 3063, 'mincepietasteoff': 3064, 'minuto': 3065, 'mom': 3066, 'momentarily': 3067, 'monday': 3068, 'monthly': 3069, 'mother': 3070, 'mouse': 3071, 'moving': 3072, 'msg': 3073, 'myself': 3074, 'navigate': 3075, 'nearby': 3076, 'necessary': 3077, 'net': 3078, 'netflix': 3079, 'newest': 3080, 'nicht': 3081, 'nj': 3082, 'nobr': 3083, 'noch': 3084, 'normally': 3085, 'north': 3086, 'note': 3087, 'notification': 3088, 'nuestro': 3089, 'nw': 3090, 'número': 3091, 'obviously': 3092, 'occur': 3093, 'offering': 3094, 'offline': 3095, 'older': 3096, 'operated': 3097, 'operational': 3098, 'opt': 3099, 'overall': 3100, 'owe': 3101, 'owner': 3102, 'packages': 3103, 'packaging': 3104, 'pain': 3105, 'parcel': 3106, 'park': 3107, 'passing': 3108, 'passport': 3109, 'patch': 3110, 'patient': 3111, 'paypal': 3112, 'pending': 3113, 'perfect': 3114, 'period': 3115, 'perks': 3116, 'permission': 3117, 'personally': 3118, 'petrol': 3119, 'picking': 3120, 'pin': 3121, 'pissed': 3122, 'pizza': 3123, 'planning': 3124, 'pleased': 3125, 'plenty': 3126, 'pls': 3127, 'plugging': 3128, 'plus': 3129, 'police': 3130, 'popular': 3131, 'por': 3132, 'possibly': 3133, 'ppl': 3134, 'prevent': 3135, 'pricing': 3136, 'prints': 3137, 'problemas': 3138, 'problematic': 3139, 'proceeded': 3140, 'progress': 3141, 'promo': 3142, 'proper': 3143, 'protect': 3144, 'ps': 3145, 'puedo': 3146, 'push': 3147, 'pushed': 3148, 'queries': 3149, 'queso': 3150, 'quicker': 3151, 'raised': 3152, 'ran': 3153, 'random': 3154, 'randomly': 3155, 'rant': 3156, 'realized': 3157, 'rebooking': 3158, 'receipts': 3159, 'recommended': 3160, 'recorded': 3161, 'redeposited': 3162, 'redirect': 3163, 'referred': 3164, 'refunded': 3165, 'refunds': 3166, 'regional': 3167, 'registered': 3168, 'reinstalled': 3169, 'reissue': 3170, 'relax': 3171, 'reliable': 3172, 'reliably': 3173, 'remake': 3174, 'renew': 3175, 'reopen': 3176, 'repeat': 3177, 'replace': 3178, 'replies': 3179, 'reporting': 3180, 'requirements': 3181, 'reseat': 3182, 'reserve': 3183, 'resized': 3184, 'responds': 3185, 'restricted': 3186, 'restrictions': 3187, 'result': 3188, 'reuse': 3189, 'rice': 3190, 'ring': 3191, 'ruined': 3192, 'safety': 3193, 'sat': 3194, 'saved': 3195, 'saver': 3196, 'screenshots': 3197, 'searching': 3198, 'section': 3199, 'selecting': 3200, 'separate': 3201, 'serving': 3202, 'sessions': 3203, 'settle': 3204, 'shame': 3205, 'shocked': 3206, 'signs': 3207, 'silence': 3208, 'silly': 3209, 'single': 3210, 'skills': 3211, 'sky': 3212, 'slot': 3213, 'slowing': 3214, 'smh': 3215, 'sms': 3216, 'snaps': 3217, 'snapshots': 3218, 'solely': 3219, 'solved': 3220, 'somewhere': 3221, 'son': 3222, 'southwest': 3223, 'specialist': 3224, 'spend': 3225, 'spoken': 3226, 'sports': 3227, 'spot': 3228, 'stage': 3229, 'standby': 3230, 'standing': 3231, 'starts': 3232, 'stats': 3233, 'strange': 3234, 'strip': 3235, 'stupid': 3236, 'subject': 3237, 'sucks': 3238, 'super': 3239, 'surely': 3240, 'surprised': 3241, 'surrounding': 3242, 'surveys': 3243, 'swiping': 3244, 'switched': 3245, 'switching': 3246, 'sy': 3247, 'symbol': 3248, 'sync': 3249, 't': 3250, 'tag': 3251, 'takes': 3252, 'tarjeta': 3253, 'tasted': 3254, 'tasters': 3255, 'tat': 3256, 'teams': 3257, 'temporarily': 3258, 'ten': 3259, 'tends': 3260, 'terms': 3261, 'thick': 3262, 'thoughts': 3263, 'thread': 3264, 'threw': 3265, 'throttling': 3266, 'throughout': 3267, 'throw': 3268, 'thx': 3269, 'tight': 3270, 'tired': 3271, 'toda': 3272, 'toilet': 3273, 'toy': 3274, 'tracerts': 3275, 'track': 3276, 'transportista': 3277, 'travelling': 3278, 'trick': 3279, 'triggered': 3280, 'true': 3281, 'turkey': 3282, 'turned': 3283, 'tweeted': 3284, 'tweeting': 3285, 'twitter': 3286, 'unacceptable': 3287, 'unhappy': 3288, 'unsure': 3289, 'upgraded': 3290, 'upper': 3291, 'uses': 3292, 'v': 3293, 'validate': 3294, 'versions': 3295, 'visited': 3296, 'visiting': 3297, 'voice': 3298, 'voucher': 3299, 'wasting': 3300, 'watched': 3301, 'water': 3302, 'wife': 3303, 'wire': 3304, 'witch': 3305, 'woman': 3306, 'wonderful': 3307, 'workers': 3308, 'workflow': 3309, 'worth': 3310, 'xp': 3311, 'yours': 3312, 'yrs': 3313, 'zip': 3314, '~': 3315, '~Angel': 3316, '\\xa0': 3317, '¿': 3318, '☹': 3319, '「': 3320, 'ノートンWi': 3321, '？': 3322, '🎶': 3323, '🏼\\u200d': 3324, '👀': 3325, '👌': 3326, '👏': 3327, '👻': 3328, '💕': 3329, '😃': 3330, '😅': 3331, '😔': 3332, '😕': 3333, '😛': 3334, '😢': 3335, '😸': 3336, '🤗': 3337})\n"
          ],
          "name": "stdout"
        }
      ]
    },
    {
      "cell_type": "code",
      "metadata": {
        "id": "34W3EX58m9GK"
      },
      "source": [
        "BATCH_SIZE = 128\r\n",
        "train_iterator_fourth, valid_iterator_fourth = data.BucketIterator.splits(\r\n",
        "                                (Train_Dataset_Fourth, Valid_Dataset_Fourth), \r\n",
        "                                batch_size = BATCH_SIZE,\r\n",
        "                                sort_key = lambda x: len(x.questions_fourth),\r\n",
        "                                sort_within_batch=True ,\r\n",
        "                                device = device)"
      ],
      "execution_count": 24,
      "outputs": []
    },
    {
      "cell_type": "code",
      "metadata": {
        "colab": {
          "base_uri": "https://localhost:8080/"
        },
        "id": "LHTcU5zwnKKa",
        "outputId": "f1f7c634-659c-41fe-b071-485332478b51"
      },
      "source": [
        "for i, batch in enumerate(train_iterator_fourth):\r\n",
        "  print(type(batch), type(batch.answers_fourth), type(batch.questions_fourth), batch.answers_fourth.shape, batch.questions_fourth.shape)\r\n",
        "  break"
      ],
      "execution_count": 25,
      "outputs": [
        {
          "output_type": "stream",
          "text": [
            "<class 'torchtext.data.batch.Batch'> <class 'torch.Tensor'> <class 'torch.Tensor'> torch.Size([128, 61]) torch.Size([128, 17])\n"
          ],
          "name": "stdout"
        }
      ]
    },
    {
      "cell_type": "markdown",
      "metadata": {
        "id": "Jq7BwOO4EzFd"
      },
      "source": [
        "## Building the Seq2Seq Model\n",
        "\n",
        "### Encoder\n",
        "\n",
        "The encoder is similar to the previous one, with the multi-layer LSTM swapped for a single-layer GRU. We also don't pass the dropout as an argument to the GRU as that dropout is used between each layer of a multi-layered RNN. As we only have a single layer, PyTorch will display a warning if we try and use pass a dropout value to it.\n",
        "\n",
        "Another thing to note about the GRU is that it only requires and returns a hidden state, there is no cell state like in the LSTM.\n",
        "\n",
        "$$\\begin{align*}\n",
        "h_t &= \\text{GRU}(e(x_t), h_{t-1})\\\\\n",
        "(h_t, c_t) &= \\text{LSTM}(e(x_t), h_{t-1}, c_{t-1})\\\\\n",
        "h_t &= \\text{RNN}(e(x_t), h_{t-1})\n",
        "\\end{align*}$$\n",
        "\n",
        "From the equations above, it looks like the RNN and the GRU are identical. Inside the GRU, however, is a number of *gating mechanisms* that control the information flow in to and out of the hidden state (similar to an LSTM). Again, for more info, check out [this](https://colah.github.io/posts/2015-08-Understanding-LSTMs/) excellent post. \n",
        "\n",
        "The rest of the encoder should be very familar from the last session, it takes in a sequence, $X = \\{x_1, x_2, ... , x_T\\}$, passes it through the embedding layer, recurrently calculates hidden states, $H = \\{h_1, h_2, ..., h_T\\}$, and returns a context vector (the final hidden state), $z=h_T$.\n",
        "\n",
        "$$h_t = \\text{EncoderGRU}(e(x_t), h_{t-1})$$\n",
        "\n",
        "This is identical to the encoder of the general seq2seq model, with all the \"magic\" happening inside the GRU (green).\n",
        "\n",
        "![](https://github.com/bentrevett/pytorch-seq2seq/blob/master/assets/seq2seq5.png?raw=1)"
      ]
    },
    {
      "cell_type": "code",
      "metadata": {
        "id": "11CnDhTkEzFd"
      },
      "source": [
        "class Encoder(nn.Module):\n",
        "    def __init__(self, input_dim, emb_dim, hid_dim, dropout):\n",
        "        super().__init__()\n",
        "\n",
        "        self.hid_dim = hid_dim\n",
        "        \n",
        "        self.embedding = nn.Embedding(input_dim, emb_dim) #no dropout as only one layer!\n",
        "        \n",
        "        self.rnn = nn.GRU(emb_dim, hid_dim)\n",
        "        \n",
        "        self.dropout = nn.Dropout(dropout)\n",
        "        \n",
        "    def forward(self, src):\n",
        "        \n",
        "        #src = [src len, batch size]\n",
        "        \n",
        "        embedded = self.dropout(self.embedding(src))\n",
        "        \n",
        "        #embedded = [src len, batch size, emb dim]\n",
        "        \n",
        "        outputs, hidden = self.rnn(embedded) #no cell state!\n",
        "        \n",
        "        #outputs = [src len, batch size, hid dim * n directions]\n",
        "        #hidden = [n layers * n directions, batch size, hid dim]\n",
        "        \n",
        "        #outputs are always from the top hidden layer\n",
        "        \n",
        "        return hidden"
      ],
      "execution_count": 26,
      "outputs": []
    },
    {
      "cell_type": "markdown",
      "metadata": {
        "id": "FhBViJ4-EzFe"
      },
      "source": [
        "## Decoder\n",
        "\n",
        "The decoder is where the implementation differs significantly from the previous model and we alleviate some of the information compression.\n",
        "\n",
        "Instead of the GRU in the decoder taking just the embedded target token, $d(y_t)$ and the previous hidden state $s_{t-1}$ as inputs, it also takes the context vector $z$. \n",
        "\n",
        "$$s_t = \\text{DecoderGRU}(d(y_t), s_{t-1}, z)$$\n",
        "\n",
        "Note how this context vector, $z$, does not have a $t$ subscript, meaning we re-use the same context vector returned by the encoder for every time-step in the decoder. \n",
        "\n",
        "Before, we predicted the next token, $\\hat{y}_{t+1}$, with the linear layer, $f$, only using the top-layer decoder hidden state at that time-step, $s_t$, as $\\hat{y}_{t+1}=f(s_t^L)$. Now, we also pass the embedding of current token, $d(y_t)$ and the context vector, $z$ to the linear layer.\n",
        "\n",
        "$$\\hat{y}_{t+1} = f(d(y_t), s_t, z)$$\n",
        "\n",
        "Thus, our decoder now looks something like this:\n",
        "\n",
        "![](https://github.com/bentrevett/pytorch-seq2seq/blob/master/assets/seq2seq6.png?raw=1)\n",
        "\n",
        "Note, the initial hidden state, $s_0$, is still the context vector, $z$, so when generating the first token we are actually inputting two identical context vectors into the GRU.\n",
        "\n",
        "How do these two changes reduce the information compression? Well, hypothetically the decoder hidden states, $s_t$, no longer need to contain information about the source sequence as it is always available as an input. Thus, it only needs to contain information about what tokens it has generated so far. The addition of $y_t$ to the linear layer also means this layer can directly see what the token is, without having to get this information from the hidden state. \n",
        "\n",
        "However, this hypothesis is just a hypothesis, it is impossible to determine how the model actually uses the information provided to it (don't listen to anyone that says differently). Nevertheless, it is a solid intuition and the results seem to indicate that this modifications are a good idea!\n",
        "\n",
        "Within the implementation, we will pass $d(y_t)$ and $z$ to the GRU by concatenating them together, so the input dimensions to the GRU are now `emb_dim + hid_dim` (as context vector will be of size `hid_dim`). The linear layer will take $d(y_t), s_t$ and $z$ also by concatenating them together, hence the input dimensions are now `emb_dim + hid_dim*2`. We also don't pass a value of dropout to the GRU as it only uses a single layer.\n",
        "\n",
        "`forward` now takes a `context` argument. Inside of `forward`, we concatenate $y_t$ and $z$ as `emb_con` before feeding to the GRU, and we concatenate $d(y_t)$, $s_t$ and $z$ together as `output` before feeding it through the linear layer to receive our predictions, $\\hat{y}_{t+1}$."
      ]
    },
    {
      "cell_type": "code",
      "metadata": {
        "id": "wRA8hkiLEzFh"
      },
      "source": [
        "class Decoder(nn.Module):\n",
        "    def __init__(self, output_dim, emb_dim, hid_dim, dropout):\n",
        "        super().__init__()\n",
        "\n",
        "        self.hid_dim = hid_dim\n",
        "        self.output_dim = output_dim\n",
        "        \n",
        "        self.embedding = nn.Embedding(output_dim, emb_dim)\n",
        "        \n",
        "        self.rnn = nn.GRU(emb_dim + hid_dim, hid_dim)\n",
        "        \n",
        "        self.fc_out = nn.Linear(emb_dim + hid_dim * 2, output_dim)\n",
        "        \n",
        "        self.dropout = nn.Dropout(dropout)\n",
        "        \n",
        "    def forward(self, input, hidden, context):\n",
        "        \n",
        "        #input = [batch size]\n",
        "        #hidden = [n layers * n directions, batch size, hid dim]\n",
        "        #context = [n layers * n directions, batch size, hid dim]\n",
        "        \n",
        "        #n layers and n directions in the decoder will both always be 1, therefore:\n",
        "        #hidden = [1, batch size, hid dim]\n",
        "        #context = [1, batch size, hid dim]\n",
        "        \n",
        "        input = input.unsqueeze(0)\n",
        "        \n",
        "        #input = [1, batch size]\n",
        "        \n",
        "        embedded = self.dropout(self.embedding(input))\n",
        "        \n",
        "        #embedded = [1, batch size, emb dim]\n",
        "                \n",
        "        emb_con = torch.cat((embedded, context), dim = 2)\n",
        "            \n",
        "        #emb_con = [1, batch size, emb dim + hid dim]\n",
        "            \n",
        "        output, hidden = self.rnn(emb_con, hidden)\n",
        "        \n",
        "        #output = [seq len, batch size, hid dim * n directions]\n",
        "        #hidden = [n layers * n directions, batch size, hid dim]\n",
        "        \n",
        "        #seq len, n layers and n directions will always be 1 in the decoder, therefore:\n",
        "        #output = [1, batch size, hid dim]\n",
        "        #hidden = [1, batch size, hid dim]\n",
        "        \n",
        "        output = torch.cat((embedded.squeeze(0), hidden.squeeze(0), context.squeeze(0)), \n",
        "                           dim = 1)\n",
        "        \n",
        "        #output = [batch size, emb dim + hid dim * 2]\n",
        "        \n",
        "        prediction = self.fc_out(output)\n",
        "        \n",
        "        #prediction = [batch size, output dim]\n",
        "        \n",
        "        return prediction, hidden"
      ],
      "execution_count": 27,
      "outputs": []
    },
    {
      "cell_type": "markdown",
      "metadata": {
        "id": "wqR66FM2EzFj"
      },
      "source": [
        "## Seq2Seq Model\n",
        "\n",
        "Putting the encoder and decoder together, we get:\n",
        "\n",
        "![](https://github.com/bentrevett/pytorch-seq2seq/blob/master/assets/seq2seq7.png?raw=1)\n",
        "\n",
        "Again, in this implementation we need to ensure the hidden dimensions in both the encoder and the decoder are the same.\n",
        "\n",
        "Briefly going over all of the steps:\n",
        "- the `outputs` tensor is created to hold all predictions, $\\hat{Y}$\n",
        "- the source sequence, $X$, is fed into the encoder to receive a `context` vector\n",
        "- the initial decoder hidden state is set to be the `context` vector, $s_0 = z = h_T$\n",
        "- we use a batch of `<sos>` tokens as the first `input`, $y_1$\n",
        "- we then decode within a loop:\n",
        "  - inserting the input token $y_t$, previous hidden state, $s_{t-1}$, and the context vector, $z$, into the decoder\n",
        "  - receiving a prediction, $\\hat{y}_{t+1}$, and a new hidden state, $s_t$\n",
        "  - we then decide if we are going to teacher force or not, setting the next input as appropriate (either the ground truth next token in the target sequence or the highest predicted next token)"
      ]
    },
    {
      "cell_type": "code",
      "metadata": {
        "id": "FDyNrQ8VEzFk"
      },
      "source": [
        "class Seq2Seq(nn.Module):\n",
        "    def __init__(self, encoder, decoder, device):\n",
        "        super().__init__()\n",
        "        \n",
        "        self.encoder = encoder\n",
        "        self.decoder = decoder\n",
        "        self.device = device\n",
        "        \n",
        "        assert encoder.hid_dim == decoder.hid_dim, \\\n",
        "            \"Hidden dimensions of encoder and decoder must be equal!\"\n",
        "        \n",
        "    def forward(self, src, trg, teacher_forcing_ratio = 0.5):\n",
        "        \n",
        "        #src = [src len, batch size]\n",
        "        #trg = [trg len, batch size]\n",
        "        #teacher_forcing_ratio is probability to use teacher forcing\n",
        "        #e.g. if teacher_forcing_ratio is 0.75 we use ground-truth inputs 75% of the time\n",
        "        \n",
        "        batch_size = trg.shape[1]\n",
        "        trg_len = trg.shape[0]\n",
        "        trg_vocab_size = self.decoder.output_dim\n",
        "        \n",
        "        #tensor to store decoder outputs\n",
        "        outputs = torch.zeros(trg_len, batch_size, trg_vocab_size).to(self.device)\n",
        "        \n",
        "        #last hidden state of the encoder is the context\n",
        "        context = self.encoder(src)\n",
        "        \n",
        "        #context also used as the initial hidden state of the decoder\n",
        "        hidden = context\n",
        "        \n",
        "        #first input to the decoder is the <sos> tokens\n",
        "        input = trg[0,:]\n",
        "        \n",
        "        for t in range(1, trg_len):\n",
        "            \n",
        "            #insert input token embedding, previous hidden state and the context state\n",
        "            #receive output tensor (predictions) and new hidden state\n",
        "            output, hidden = self.decoder(input, hidden, context)\n",
        "            \n",
        "            #place predictions in a tensor holding predictions for each token\n",
        "            outputs[t] = output\n",
        "            \n",
        "            #decide if we are going to use teacher forcing or not\n",
        "            teacher_force = random.random() < teacher_forcing_ratio\n",
        "            \n",
        "            #get the highest predicted token from our predictions\n",
        "            top1 = output.argmax(1) \n",
        "            \n",
        "            #if teacher forcing, use actual next token as next input\n",
        "            #if not, use predicted token\n",
        "            input = trg[t] if teacher_force else top1\n",
        "\n",
        "        return outputs"
      ],
      "execution_count": 28,
      "outputs": []
    },
    {
      "cell_type": "markdown",
      "metadata": {
        "id": "uxVMMPUyEzFk"
      },
      "source": [
        "# Training the Seq2Seq Model\n",
        "\n",
        "The rest of this session is very similar to the previous one. \n",
        "\n",
        "We initialise our encoder, decoder and seq2seq model (placing it on the GPU if we have one). As before, the embedding dimensions and the amount of dropout used can be different between the encoder and the decoder, but the hidden dimensions must remain the same."
      ]
    },
    {
      "cell_type": "code",
      "metadata": {
        "id": "WDG6jOSuEzFk"
      },
      "source": [
        "INPUT_DIM = len(Questions_Fourth.vocab)\n",
        "OUTPUT_DIM = len(Answers_Fourth.vocab)\n",
        "ENC_EMB_DIM = 256\n",
        "DEC_EMB_DIM = 256\n",
        "HID_DIM = 512\n",
        "ENC_DROPOUT = 0.5\n",
        "DEC_DROPOUT = 0.5\n",
        "\n",
        "enc = Encoder(INPUT_DIM, ENC_EMB_DIM, HID_DIM, ENC_DROPOUT)\n",
        "dec = Decoder(OUTPUT_DIM, DEC_EMB_DIM, HID_DIM, DEC_DROPOUT)\n",
        "\n",
        "device = torch.device('cuda' if torch.cuda.is_available() else 'cpu')\n",
        "\n",
        "model = Seq2Seq(enc, dec, device).to(device)"
      ],
      "execution_count": 29,
      "outputs": []
    },
    {
      "cell_type": "markdown",
      "metadata": {
        "id": "RLIc1l6CEzFk"
      },
      "source": [
        "Next, we initialize our parameters. The paper states the parameters are initialized from a normal distribution with a mean of 0 and a standard deviation of 0.01, i.e. $\\mathcal{N}(0, 0.01)$. \n",
        "\n",
        "It also states we should initialize the recurrent parameters to a special initialization, however to keep things simple we'll also initialize them to $\\mathcal{N}(0, 0.01)$."
      ]
    },
    {
      "cell_type": "code",
      "metadata": {
        "id": "HgqMqq-oEzFk",
        "colab": {
          "base_uri": "https://localhost:8080/"
        },
        "outputId": "6db0cd62-eda1-4913-b87c-c1f088b335b7"
      },
      "source": [
        "def init_weights(m):\n",
        "    for name, param in m.named_parameters():\n",
        "        nn.init.normal_(param.data, mean=0, std=0.01)\n",
        "        \n",
        "model.apply(init_weights)"
      ],
      "execution_count": 30,
      "outputs": [
        {
          "output_type": "execute_result",
          "data": {
            "text/plain": [
              "Seq2Seq(\n",
              "  (encoder): Encoder(\n",
              "    (embedding): Embedding(3453, 256)\n",
              "    (rnn): GRU(256, 512)\n",
              "    (dropout): Dropout(p=0.5, inplace=False)\n",
              "  )\n",
              "  (decoder): Decoder(\n",
              "    (embedding): Embedding(3338, 256)\n",
              "    (rnn): GRU(768, 512)\n",
              "    (fc_out): Linear(in_features=1280, out_features=3338, bias=True)\n",
              "    (dropout): Dropout(p=0.5, inplace=False)\n",
              "  )\n",
              ")"
            ]
          },
          "metadata": {
            "tags": []
          },
          "execution_count": 30
        }
      ]
    },
    {
      "cell_type": "markdown",
      "metadata": {
        "id": "hd1QoOsUEzFl"
      },
      "source": [
        "We print out the number of parameters.\n",
        "\n",
        "Even though we only have a single layer RNN for our encoder and decoder we actually have **more** parameters  than the last model. This is due to the increased size of the inputs to the GRU and the linear layer. However, it is not a significant amount of parameters and causes a minimal amount of increase in training time (~3 seconds per epoch extra)."
      ]
    },
    {
      "cell_type": "code",
      "metadata": {
        "id": "IggCwIBgEzFl",
        "colab": {
          "base_uri": "https://localhost:8080/"
        },
        "outputId": "7905e1ae-63b8-4ff1-f4de-d07d6b323732"
      },
      "source": [
        "def count_parameters(model):\n",
        "    return sum(p.numel() for p in model.parameters() if p.requires_grad)\n",
        "\n",
        "print(f'The model has {count_parameters(model):,} trainable parameters')"
      ],
      "execution_count": 31,
      "outputs": [
        {
          "output_type": "stream",
          "text": [
            "The model has 9,166,346 trainable parameters\n"
          ],
          "name": "stdout"
        }
      ]
    },
    {
      "cell_type": "markdown",
      "metadata": {
        "id": "YiH54qzHEzFl"
      },
      "source": [
        "We initiaize our optimizer."
      ]
    },
    {
      "cell_type": "code",
      "metadata": {
        "id": "eO1_eoG7EzFl"
      },
      "source": [
        "optimizer = optim.Adam(model.parameters())"
      ],
      "execution_count": 32,
      "outputs": []
    },
    {
      "cell_type": "markdown",
      "metadata": {
        "id": "BwkV3FKlEzFl"
      },
      "source": [
        "We also initialize the loss function, making sure to ignore the loss on `<pad>` tokens."
      ]
    },
    {
      "cell_type": "code",
      "metadata": {
        "id": "H0DAbGbcEzFl"
      },
      "source": [
        "TRG_PAD_IDX = Answers_Fourth.vocab.stoi[Answers_Fourth.pad_token]\n",
        "\n",
        "criterion = nn.CrossEntropyLoss(ignore_index = TRG_PAD_IDX)"
      ],
      "execution_count": 33,
      "outputs": []
    },
    {
      "cell_type": "markdown",
      "metadata": {
        "id": "FTay7E9rEzFm"
      },
      "source": [
        "We then create the training loop..."
      ]
    },
    {
      "cell_type": "code",
      "metadata": {
        "id": "A5OYuoFdEzFm"
      },
      "source": [
        "def train(model, iterator, optimizer, criterion, clip):\n",
        "    \n",
        "    model.train()\n",
        "    \n",
        "    epoch_loss = 0\n",
        "    \n",
        "    for i, batch in enumerate(iterator):\n",
        "        \n",
        "        src = batch.questions_fourth\n",
        "        trg = batch.answers_fourth\n",
        "        \n",
        "        src = src.permute(1, 0)\n",
        "        trg = trg.permute(1, 0)\n",
        "\n",
        "        optimizer.zero_grad()\n",
        "        \n",
        "        output = model(src, trg)\n",
        "        \n",
        "        #trg = [trg len, batch size]\n",
        "        #output = [trg len, batch size, output dim]\n",
        "        \n",
        "        output_dim = output.shape[-1]\n",
        "        print(output.shape)\n",
        "        output = output[1:].view(-1, output_dim)\n",
        "        trg = trg[1:]\n",
        "        trg = torch.reshape(trg, (-1,)) #trg[1:].view(-1)\n",
        "        \n",
        "        #trg = [(trg len - 1) * batch size]\n",
        "        #output = [(trg len - 1) * batch size, output dim]\n",
        "        \n",
        "        loss = criterion(output, trg)\n",
        "        \n",
        "        loss.backward()\n",
        "        \n",
        "        torch.nn.utils.clip_grad_norm_(model.parameters(), clip)\n",
        "        \n",
        "        optimizer.step()\n",
        "        \n",
        "        epoch_loss += loss.item()\n",
        "        \n",
        "    return epoch_loss / len(iterator)"
      ],
      "execution_count": 34,
      "outputs": []
    },
    {
      "cell_type": "markdown",
      "metadata": {
        "id": "6rfUx5lhEzFm"
      },
      "source": [
        "...and the evaluation loop, remembering to set the model to `eval` mode and turn off teaching forcing."
      ]
    },
    {
      "cell_type": "code",
      "metadata": {
        "id": "Jw022pw0EzFm"
      },
      "source": [
        "def evaluate(model, iterator, criterion):\n",
        "    \n",
        "    model.eval()\n",
        "    \n",
        "    epoch_loss = 0\n",
        "    \n",
        "    with torch.no_grad():\n",
        "    \n",
        "        for i, batch in enumerate(iterator):\n",
        "\n",
        "            src = batch.questions_fourth\n",
        "            trg = batch.answers_fourth\n",
        "\n",
        "            src = src.permute(1, 0)\n",
        "            trg = trg.permute(1, 0)\n",
        "\n",
        "            output = model(src, trg, 0) #turn off teacher forcing\n",
        "\n",
        "            #trg = [trg len, batch size]\n",
        "            #output = [trg len, batch size, output dim]\n",
        "\n",
        "            output_dim = output.shape[-1]\n",
        "            #print(output.shape)\n",
        "            output = output[1:].view(-1, output_dim)\n",
        "            trg = trg[1:]#.view(-1)\n",
        "            trg = torch.reshape(trg, (-1,))\n",
        "\n",
        "            #trg = [(trg len - 1) * batch size]\n",
        "            #output = [(trg len - 1) * batch size, output dim]\n",
        "\n",
        "            loss = criterion(output, trg)\n",
        "\n",
        "            epoch_loss += loss.item()\n",
        "        \n",
        "    return epoch_loss / len(iterator)"
      ],
      "execution_count": 35,
      "outputs": []
    },
    {
      "cell_type": "markdown",
      "metadata": {
        "id": "E43h8dnQEzFm"
      },
      "source": [
        "We'll also define the function that calculates how long an epoch takes."
      ]
    },
    {
      "cell_type": "code",
      "metadata": {
        "id": "zTAmu3-EEzFm"
      },
      "source": [
        "def epoch_time(start_time, end_time):\n",
        "    elapsed_time = end_time - start_time\n",
        "    elapsed_mins = int(elapsed_time / 60)\n",
        "    elapsed_secs = int(elapsed_time - (elapsed_mins * 60))\n",
        "    return elapsed_mins, elapsed_secs"
      ],
      "execution_count": 36,
      "outputs": []
    },
    {
      "cell_type": "markdown",
      "metadata": {
        "id": "kbCGyO4ZEzFm"
      },
      "source": [
        "Then, we train our model, saving the parameters that give us the best validation loss."
      ]
    },
    {
      "cell_type": "code",
      "metadata": {
        "id": "jjFyRUK9EzFm",
        "colab": {
          "base_uri": "https://localhost:8080/"
        },
        "outputId": "6f2809e7-bd28-4866-8543-fcf1c0b26caf"
      },
      "source": [
        "N_EPOCHS = 10\n",
        "CLIP = 1\n",
        "\n",
        "best_valid_loss = float('inf')\n",
        "\n",
        "for epoch in range(N_EPOCHS):\n",
        "    \n",
        "    start_time = time.time()\n",
        "    \n",
        "    train_loss = train(model, train_iterator_fourth, optimizer, criterion, CLIP)\n",
        "    valid_loss = evaluate(model, valid_iterator_fourth, criterion)\n",
        "    \n",
        "    end_time = time.time()\n",
        "    \n",
        "    epoch_mins, epoch_secs = epoch_time(start_time, end_time)\n",
        "    \n",
        "    if valid_loss < best_valid_loss:\n",
        "        best_valid_loss = valid_loss\n",
        "        torch.save(model.state_dict(), 'tut2-model8.pt')\n",
        "    \n",
        "    print(f'Epoch: {epoch+1:02} | Time: {epoch_mins}m {epoch_secs}s')\n",
        "    print(f'\\tTrain Loss: {train_loss:.3f} | Train PPL: {math.exp(train_loss):7.3f}')\n",
        "    print(f'\\t Val. Loss: {valid_loss:.3f} |  Val. PPL: {math.exp(valid_loss):7.3f}')"
      ],
      "execution_count": 37,
      "outputs": [
        {
          "output_type": "stream",
          "text": [
            "torch.Size([61, 128, 3338])\n",
            "torch.Size([42, 128, 3338])\n",
            "torch.Size([55, 128, 3338])\n",
            "torch.Size([62, 128, 3338])\n",
            "torch.Size([57, 128, 3338])\n",
            "torch.Size([66, 128, 3338])\n",
            "torch.Size([57, 128, 3338])\n",
            "torch.Size([68, 128, 3338])\n",
            "torch.Size([61, 128, 3338])\n",
            "torch.Size([76, 54, 3338])\n",
            "torch.Size([61, 128, 3338])\n",
            "torch.Size([40, 128, 3338])\n",
            "torch.Size([39, 128, 3338])\n",
            "torch.Size([58, 128, 3338])\n",
            "torch.Size([56, 128, 3338])\n",
            "torch.Size([46, 128, 3338])\n",
            "torch.Size([55, 128, 3338])\n",
            "torch.Size([57, 128, 3338])\n",
            "torch.Size([72, 128, 3338])\n",
            "torch.Size([64, 128, 3338])\n",
            "torch.Size([35, 128, 3338])\n",
            "torch.Size([59, 128, 3338])\n",
            "torch.Size([60, 128, 3338])\n",
            "Epoch: 01 | Time: 3m 6s\n",
            "\tTrain Loss: 6.904 | Train PPL: 996.314\n",
            "\t Val. Loss: 5.915 |  Val. PPL: 370.616\n",
            "torch.Size([76, 54, 3338])\n",
            "torch.Size([61, 128, 3338])\n",
            "torch.Size([61, 128, 3338])\n",
            "torch.Size([68, 128, 3338])\n",
            "torch.Size([62, 128, 3338])\n",
            "torch.Size([72, 128, 3338])\n",
            "torch.Size([58, 128, 3338])\n",
            "torch.Size([56, 128, 3338])\n",
            "torch.Size([66, 128, 3338])\n",
            "torch.Size([61, 128, 3338])\n",
            "torch.Size([39, 128, 3338])\n",
            "torch.Size([59, 128, 3338])\n",
            "torch.Size([57, 128, 3338])\n",
            "torch.Size([42, 128, 3338])\n",
            "torch.Size([57, 128, 3338])\n",
            "torch.Size([57, 128, 3338])\n",
            "torch.Size([46, 128, 3338])\n",
            "torch.Size([65, 128, 3338])\n",
            "torch.Size([55, 128, 3338])\n",
            "torch.Size([64, 128, 3338])\n",
            "torch.Size([55, 128, 3338])\n",
            "torch.Size([38, 128, 3338])\n",
            "torch.Size([60, 128, 3338])\n",
            "Epoch: 02 | Time: 3m 11s\n",
            "\tTrain Loss: 6.191 | Train PPL: 488.486\n",
            "\t Val. Loss: 5.804 |  Val. PPL: 331.497\n",
            "torch.Size([46, 128, 3338])\n",
            "torch.Size([76, 54, 3338])\n",
            "torch.Size([42, 128, 3338])\n",
            "torch.Size([57, 128, 3338])\n",
            "torch.Size([58, 128, 3338])\n",
            "torch.Size([65, 128, 3338])\n",
            "torch.Size([55, 128, 3338])\n",
            "torch.Size([61, 128, 3338])\n",
            "torch.Size([64, 128, 3338])\n",
            "torch.Size([68, 128, 3338])\n",
            "torch.Size([57, 128, 3338])\n",
            "torch.Size([59, 128, 3338])\n",
            "torch.Size([39, 128, 3338])\n",
            "torch.Size([61, 128, 3338])\n",
            "torch.Size([72, 128, 3338])\n",
            "torch.Size([62, 128, 3338])\n",
            "torch.Size([61, 128, 3338])\n",
            "torch.Size([44, 128, 3338])\n",
            "torch.Size([56, 128, 3338])\n",
            "torch.Size([66, 128, 3338])\n",
            "torch.Size([50, 128, 3338])\n",
            "torch.Size([60, 128, 3338])\n",
            "torch.Size([43, 128, 3338])\n",
            "Epoch: 03 | Time: 3m 6s\n",
            "\tTrain Loss: 6.076 | Train PPL: 435.136\n",
            "\t Val. Loss: 5.771 |  Val. PPL: 320.972\n",
            "torch.Size([60, 128, 3338])\n",
            "torch.Size([64, 128, 3338])\n",
            "torch.Size([56, 128, 3338])\n",
            "torch.Size([39, 128, 3338])\n",
            "torch.Size([66, 128, 3338])\n",
            "torch.Size([55, 128, 3338])\n",
            "torch.Size([35, 128, 3338])\n",
            "torch.Size([57, 128, 3338])\n",
            "torch.Size([61, 128, 3338])\n",
            "torch.Size([65, 128, 3338])\n",
            "torch.Size([76, 54, 3338])\n",
            "torch.Size([42, 128, 3338])\n",
            "torch.Size([62, 128, 3338])\n",
            "torch.Size([56, 128, 3338])\n",
            "torch.Size([46, 128, 3338])\n",
            "torch.Size([72, 128, 3338])\n",
            "torch.Size([46, 128, 3338])\n",
            "torch.Size([59, 128, 3338])\n",
            "torch.Size([55, 128, 3338])\n",
            "torch.Size([68, 128, 3338])\n",
            "torch.Size([61, 128, 3338])\n",
            "torch.Size([61, 128, 3338])\n",
            "torch.Size([57, 128, 3338])\n",
            "Epoch: 04 | Time: 3m 6s\n",
            "\tTrain Loss: 5.991 | Train PPL: 399.712\n",
            "\t Val. Loss: 5.756 |  Val. PPL: 315.926\n",
            "torch.Size([59, 128, 3338])\n",
            "torch.Size([34, 128, 3338])\n",
            "torch.Size([65, 128, 3338])\n",
            "torch.Size([72, 128, 3338])\n",
            "torch.Size([61, 128, 3338])\n",
            "torch.Size([57, 128, 3338])\n",
            "torch.Size([50, 128, 3338])\n",
            "torch.Size([45, 128, 3338])\n",
            "torch.Size([66, 128, 3338])\n",
            "torch.Size([42, 128, 3338])\n",
            "torch.Size([61, 128, 3338])\n",
            "torch.Size([62, 128, 3338])\n",
            "torch.Size([64, 128, 3338])\n",
            "torch.Size([55, 128, 3338])\n",
            "torch.Size([68, 128, 3338])\n",
            "torch.Size([60, 128, 3338])\n",
            "torch.Size([56, 128, 3338])\n",
            "torch.Size([58, 128, 3338])\n",
            "torch.Size([57, 128, 3338])\n",
            "torch.Size([46, 128, 3338])\n",
            "torch.Size([76, 54, 3338])\n",
            "torch.Size([46, 128, 3338])\n",
            "torch.Size([61, 128, 3338])\n",
            "Epoch: 05 | Time: 3m 8s\n",
            "\tTrain Loss: 5.882 | Train PPL: 358.387\n",
            "\t Val. Loss: 5.742 |  Val. PPL: 311.535\n",
            "torch.Size([62, 128, 3338])\n",
            "torch.Size([76, 54, 3338])\n",
            "torch.Size([55, 128, 3338])\n",
            "torch.Size([68, 128, 3338])\n",
            "torch.Size([45, 128, 3338])\n",
            "torch.Size([34, 128, 3338])\n",
            "torch.Size([66, 128, 3338])\n",
            "torch.Size([51, 128, 3338])\n",
            "torch.Size([61, 128, 3338])\n",
            "torch.Size([50, 128, 3338])\n",
            "torch.Size([57, 128, 3338])\n",
            "torch.Size([42, 128, 3338])\n",
            "torch.Size([57, 128, 3338])\n",
            "torch.Size([58, 128, 3338])\n",
            "torch.Size([56, 128, 3338])\n",
            "torch.Size([72, 128, 3338])\n",
            "torch.Size([57, 128, 3338])\n",
            "torch.Size([61, 128, 3338])\n",
            "torch.Size([60, 128, 3338])\n",
            "torch.Size([43, 128, 3338])\n",
            "torch.Size([46, 128, 3338])\n",
            "torch.Size([61, 128, 3338])\n",
            "torch.Size([64, 128, 3338])\n",
            "Epoch: 06 | Time: 3m 4s\n",
            "\tTrain Loss: 5.776 | Train PPL: 322.584\n",
            "\t Val. Loss: 5.728 |  Val. PPL: 307.218\n",
            "torch.Size([45, 128, 3338])\n",
            "torch.Size([58, 128, 3338])\n",
            "torch.Size([55, 128, 3338])\n",
            "torch.Size([60, 128, 3338])\n",
            "torch.Size([64, 128, 3338])\n",
            "torch.Size([42, 128, 3338])\n",
            "torch.Size([59, 128, 3338])\n",
            "torch.Size([68, 128, 3338])\n",
            "torch.Size([46, 128, 3338])\n",
            "torch.Size([61, 128, 3338])\n",
            "torch.Size([61, 128, 3338])\n",
            "torch.Size([66, 128, 3338])\n",
            "torch.Size([76, 54, 3338])\n",
            "torch.Size([35, 128, 3338])\n",
            "torch.Size([57, 128, 3338])\n",
            "torch.Size([61, 128, 3338])\n",
            "torch.Size([56, 128, 3338])\n",
            "torch.Size([72, 128, 3338])\n",
            "torch.Size([55, 128, 3338])\n",
            "torch.Size([56, 128, 3338])\n",
            "torch.Size([65, 128, 3338])\n",
            "torch.Size([62, 128, 3338])\n",
            "torch.Size([57, 128, 3338])\n",
            "Epoch: 07 | Time: 3m 9s\n",
            "\tTrain Loss: 5.652 | Train PPL: 284.784\n",
            "\t Val. Loss: 5.749 |  Val. PPL: 313.757\n",
            "torch.Size([58, 128, 3338])\n",
            "torch.Size([72, 128, 3338])\n",
            "torch.Size([62, 128, 3338])\n",
            "torch.Size([57, 128, 3338])\n",
            "torch.Size([61, 128, 3338])\n",
            "torch.Size([56, 128, 3338])\n",
            "torch.Size([68, 128, 3338])\n",
            "torch.Size([57, 128, 3338])\n",
            "torch.Size([46, 128, 3338])\n",
            "torch.Size([66, 128, 3338])\n",
            "torch.Size([55, 128, 3338])\n",
            "torch.Size([64, 128, 3338])\n",
            "torch.Size([60, 128, 3338])\n",
            "torch.Size([45, 128, 3338])\n",
            "torch.Size([51, 128, 3338])\n",
            "torch.Size([42, 128, 3338])\n",
            "torch.Size([61, 128, 3338])\n",
            "torch.Size([76, 54, 3338])\n",
            "torch.Size([61, 128, 3338])\n",
            "torch.Size([55, 128, 3338])\n",
            "torch.Size([46, 128, 3338])\n",
            "torch.Size([34, 128, 3338])\n",
            "torch.Size([65, 128, 3338])\n",
            "Epoch: 08 | Time: 3m 6s\n",
            "\tTrain Loss: 5.512 | Train PPL: 247.576\n",
            "\t Val. Loss: 5.774 |  Val. PPL: 321.675\n",
            "torch.Size([45, 128, 3338])\n",
            "torch.Size([61, 128, 3338])\n",
            "torch.Size([60, 128, 3338])\n",
            "torch.Size([62, 128, 3338])\n",
            "torch.Size([61, 128, 3338])\n",
            "torch.Size([39, 128, 3338])\n",
            "torch.Size([42, 128, 3338])\n",
            "torch.Size([66, 128, 3338])\n",
            "torch.Size([57, 128, 3338])\n",
            "torch.Size([56, 128, 3338])\n",
            "torch.Size([61, 128, 3338])\n",
            "torch.Size([76, 54, 3338])\n",
            "torch.Size([72, 128, 3338])\n",
            "torch.Size([49, 128, 3338])\n",
            "torch.Size([57, 128, 3338])\n",
            "torch.Size([46, 128, 3338])\n",
            "torch.Size([55, 128, 3338])\n",
            "torch.Size([58, 128, 3338])\n",
            "torch.Size([68, 128, 3338])\n",
            "torch.Size([64, 128, 3338])\n",
            "torch.Size([46, 128, 3338])\n",
            "torch.Size([65, 128, 3338])\n",
            "torch.Size([62, 128, 3338])\n",
            "Epoch: 09 | Time: 3m 9s\n",
            "\tTrain Loss: 5.441 | Train PPL: 230.589\n",
            "\t Val. Loss: 5.660 |  Val. PPL: 287.146\n",
            "torch.Size([42, 128, 3338])\n",
            "torch.Size([60, 128, 3338])\n",
            "torch.Size([61, 128, 3338])\n",
            "torch.Size([55, 128, 3338])\n",
            "torch.Size([65, 128, 3338])\n",
            "torch.Size([57, 128, 3338])\n",
            "torch.Size([62, 128, 3338])\n",
            "torch.Size([50, 128, 3338])\n",
            "torch.Size([46, 128, 3338])\n",
            "torch.Size([68, 128, 3338])\n",
            "torch.Size([66, 128, 3338])\n",
            "torch.Size([58, 128, 3338])\n",
            "torch.Size([61, 128, 3338])\n",
            "torch.Size([34, 128, 3338])\n",
            "torch.Size([62, 128, 3338])\n",
            "torch.Size([64, 128, 3338])\n",
            "torch.Size([72, 128, 3338])\n",
            "torch.Size([57, 128, 3338])\n",
            "torch.Size([61, 128, 3338])\n",
            "torch.Size([56, 128, 3338])\n",
            "torch.Size([76, 54, 3338])\n",
            "torch.Size([38, 128, 3338])\n",
            "torch.Size([56, 128, 3338])\n",
            "Epoch: 10 | Time: 3m 7s\n",
            "\tTrain Loss: 5.298 | Train PPL: 200.033\n",
            "\t Val. Loss: 5.659 |  Val. PPL: 287.000\n"
          ],
          "name": "stdout"
        }
      ]
    },
    {
      "cell_type": "markdown",
      "metadata": {
        "id": "ztR5mNm8EzFn"
      },
      "source": [
        "Finally, we test the model on the test set using these \"best\" parameters."
      ]
    },
    {
      "cell_type": "code",
      "metadata": {
        "id": "xaJo3X9aEzFn"
      },
      "source": [
        "#model.load_state_dict(torch.load('tut2-model.pt'))\n",
        "\n",
        "#test_loss = evaluate(model, test_iterator, criterion)\n",
        "\n",
        "#print(f'| Test Loss: {test_loss:.3f} | Test PPL: {math.exp(test_loss):7.3f} |')"
      ],
      "execution_count": 38,
      "outputs": []
    },
    {
      "cell_type": "markdown",
      "metadata": {
        "id": "QY7SsC8TEzFn"
      },
      "source": [
        "Just looking at the test loss, we get better performance. This is a pretty good sign that this model architecture is doing something right! Relieving the information compression seems like the way forard, and in the next tutorial we'll expand on this even further with *attention*."
      ]
    },
    {
      "cell_type": "code",
      "metadata": {
        "id": "A3gCvA8F5nZO"
      },
      "source": [
        "0#load weights and tokenizer\r\n",
        "\r\n",
        "path='./tut2-model8.pt.pt'\r\n",
        "model.load_state_dict(torch.load(path));\r\n",
        "model.eval();\r\n",
        "tokenizer_file = open('./tokenizer.pkl', 'rb')\r\n",
        "tokenizer = pickle.load(tokenizer_file)\r\n",
        "\r\n",
        "#inference \r\n",
        "\r\n",
        "import spacy\r\n",
        "nlp = spacy.load('en')\r\n",
        "\r\n",
        "def classify_sentiment(sentence):\r\n",
        "    \r\n",
        "    categories = {2: \"Negative\", 1:\"Positive\", 0:\"Neutral\"}\r\n",
        "    \r\n",
        "    # tokenize the tweet \r\n",
        "    tokenized = [tok.text for tok in nlp.tokenizer(sentence)] \r\n",
        "    # convert to integer sequence using predefined tokenizer dictionary\r\n",
        "    indexed = [tokenizer[t] for t in tokenized]        \r\n",
        "    # compute no. of words        \r\n",
        "    length = [len(indexed)]\r\n",
        "    # convert to tensor                                    \r\n",
        "    tensor = torch.LongTensor(indexed).to(device)   \r\n",
        "    # reshape in form of batch, no. of words           \r\n",
        "    tensor = tensor.unsqueeze(1).T  \r\n",
        "    # convert to tensor                          \r\n",
        "    length_tensor = torch.LongTensor(length)\r\n",
        "    # Get the model prediction                  \r\n",
        "    prediction = model(tensor, length_tensor)\r\n",
        " \r\n",
        "    _, pred = torch.max(prediction, 1) \r\n",
        "    \r\n",
        "    return categories[pred.item()]"
      ],
      "execution_count": null,
      "outputs": []
    }
  ]
}